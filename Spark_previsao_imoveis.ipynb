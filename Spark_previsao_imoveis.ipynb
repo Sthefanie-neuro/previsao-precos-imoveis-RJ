{
  "cells": [
    {
      "cell_type": "markdown",
      "source": [
        "## **Modelo de Previsão de Preço de Imóveis**"
      ],
      "metadata": {
        "id": "XiAjUffDze1p"
      }
    },
    {
      "cell_type": "code",
      "source": [
        "!pip install pyspark"
      ],
      "metadata": {
        "id": "1_WixBVIvvB-",
        "colab": {
          "base_uri": "https://localhost:8080/"
        },
        "outputId": "21199939-4dd8-40f9-d167-ed978036f734"
      },
      "execution_count": 2,
      "outputs": [
        {
          "output_type": "stream",
          "name": "stdout",
          "text": [
            "Requirement already satisfied: pyspark in /usr/local/lib/python3.11/dist-packages (3.5.1)\n",
            "Requirement already satisfied: py4j==0.10.9.7 in /usr/local/lib/python3.11/dist-packages (from pyspark) (0.10.9.7)\n"
          ]
        }
      ]
    },
    {
      "cell_type": "markdown",
      "source": [
        "**Bibliotecas importadas**"
      ],
      "metadata": {
        "id": "oSzUe6xx9XR8"
      }
    },
    {
      "cell_type": "code",
      "source": [
        "from pyspark.sql import SparkSession\n",
        "from google.colab import drive\n",
        "from pyspark.sql.types import IntegerType, DoubleType\n",
        "from pyspark.sql import functions as f\n",
        "from pyspark.ml.feature import VectorAssembler\n",
        "from pyspark.ml.stat import Correlation\n",
        "import pandas as pd\n",
        "import matplotlib.pyplot as plt\n",
        "import seaborn as sns\n",
        "from pyspark.ml.regression import LinearRegression\n",
        "from pyspark.ml.regression import DecisionTreeRegressor\n",
        "from pyspark.ml.tuning import CrossValidator, ParamGridBuilder\n",
        "from pyspark.ml.evaluation import RegressionEvaluator\n",
        "from pyspark.ml.regression import DecisionTreeRegressor\n",
        "from pyspark.ml.regression import RandomForestRegressor\n"
      ],
      "metadata": {
        "id": "yh-FcOR2yDJW"
      },
      "execution_count": 3,
      "outputs": []
    },
    {
      "cell_type": "markdown",
      "source": [
        "**Carregamento dos Dados**"
      ],
      "metadata": {
        "id": "BOQSXCsB-XJ4"
      }
    },
    {
      "cell_type": "markdown",
      "source": [
        "### **Montando o *drive***\n"
      ],
      "metadata": {
        "id": "h36RrRMuPTet"
      }
    },
    {
      "cell_type": "code",
      "source": [
        "spark = SparkSession.builder \\\n",
        "    .master('local[*]') \\\n",
        "    .appName(\"Regressão com Spark\") \\\n",
        "    .getOrCreate()\n",
        "\n",
        "spark"
      ],
      "metadata": {
        "id": "iIjhbXvgPMSy",
        "colab": {
          "base_uri": "https://localhost:8080/",
          "height": 219
        },
        "outputId": "d2ddb27d-9943-47b2-8eb6-fbd6d5d18329"
      },
      "execution_count": 4,
      "outputs": [
        {
          "output_type": "execute_result",
          "data": {
            "text/plain": [
              "<pyspark.sql.session.SparkSession at 0x7bb4d86bf490>"
            ],
            "text/html": [
              "\n",
              "            <div>\n",
              "                <p><b>SparkSession - in-memory</b></p>\n",
              "                \n",
              "        <div>\n",
              "            <p><b>SparkContext</b></p>\n",
              "\n",
              "            <p><a href=\"http://a1527ec5a39e:4040\">Spark UI</a></p>\n",
              "\n",
              "            <dl>\n",
              "              <dt>Version</dt>\n",
              "                <dd><code>v3.5.1</code></dd>\n",
              "              <dt>Master</dt>\n",
              "                <dd><code>local[*]</code></dd>\n",
              "              <dt>AppName</dt>\n",
              "                <dd><code>Regressão com Spark</code></dd>\n",
              "            </dl>\n",
              "        </div>\n",
              "        \n",
              "            </div>\n",
              "        "
            ]
          },
          "metadata": {},
          "execution_count": 4
        }
      ]
    },
    {
      "cell_type": "code",
      "source": [
        "drive.mount('/content/drive')"
      ],
      "metadata": {
        "id": "bItkwybT-BOG",
        "colab": {
          "base_uri": "https://localhost:8080/"
        },
        "outputId": "192d4fd9-f6d8-4128-cf0a-dedc910dd181"
      },
      "execution_count": 5,
      "outputs": [
        {
          "output_type": "stream",
          "name": "stdout",
          "text": [
            "Mounted at /content/drive\n"
          ]
        }
      ]
    },
    {
      "cell_type": "code",
      "source": [
        "dados = spark.read.json(\n",
        "    '/content/drive/MyDrive/aula01/imoveis.json',\n",
        "    multiLine=False\n",
        ")"
      ],
      "metadata": {
        "id": "WMx7nLWW-BIV"
      },
      "execution_count": 6,
      "outputs": []
    },
    {
      "cell_type": "code",
      "source": [
        "dados.show(truncate=False)"
      ],
      "metadata": {
        "id": "DyXF17Oo-BCw",
        "colab": {
          "base_uri": "https://localhost:8080/"
        },
        "outputId": "a5dae4ff-39f0-45db-e1ba-9fcd6fa1477c"
      },
      "execution_count": 7,
      "outputs": [
        {
          "output_type": "stream",
          "name": "stdout",
          "text": [
            "+--------------------------+-----------------------------------------------------------------------------------------------------------------------------------------------------------------+\n",
            "|ident                     |listing                                                                                                                                                          |\n",
            "+--------------------------+-----------------------------------------------------------------------------------------------------------------------------------------------------------------+\n",
            "|{775564-BOJSMVON, Website}|{{Rio de Janeiro, {-22.909429, -43.413557}, Taquara, Zona Oeste}, {0, 0, 0, 1, 0, 62, 0, 0, 62}, {45000, {150, 0}}, {Outros, Residencial}}                       |\n",
            "|{660895-AUENKNYY, Website}|{{Rio de Janeiro, {-22.869698, -43.509141}, Santíssimo, Zona Oeste}, {1, 2, 0, 1, 0, 0, 0, 0, 44}, {45000, {120, 0}}, {Apartamento, Residencial}}                |\n",
            "|{751522-JESYFEQL, Website}|{{Rio de Janeiro, {-22.986927, -43.646786}, Pedra de Guaratiba, Zona Oeste}, {0, 0, 0, 0, 0, 132, 0, 0, 132}, {50000, {100, 0}}, {Outros, Residencial}}          |\n",
            "|{714052-GAAEWYKS, Website}|{{Rio de Janeiro, {-22.881977, -43.330818}, Cascadura, Zona Norte}, {1, 0, 0, 0, 0, 32, 3, 0, 32}, {45000, {468, 346}}, {Outros, Comercial}}                     |\n",
            "|{568886-ZIBFOMCC, Website}|{{Rio de Janeiro, {-23.027653, -43.480742}, Recreio dos Bandeirantes, Zona Oeste}, {2, 3, 3, 1, 1, 0, 2, 4, 60}, {50000, {400, 120}}, {Apartamento, Residencial}}|\n",
            "|{526755-OBLTYTEN, Website}|{{Rio de Janeiro, {-22.966059, -43.571183}, Guaratiba, Zona Oeste}, {0, 0, 0, 0, 0, 200, 0, 0, 200}, {50000, {0, NULL}}, {Outros, Residencial}}                  |\n",
            "|{593569-CJLMNFGW, Website}|{{Rio de Janeiro, {-22.939028, -43.3453}, Freguesia (Jacarepaguá), Zona Oeste}, {1, 0, 0, 0, 0, 25, 2, 0, 25}, {50000, {801, 211}}, {Outros, Comercial}}         |\n",
            "|{989181-RYJOLMCU, Website}|{{Rio de Janeiro, {-22.841509, -43.278855}, Penha, Zona Norte}, {1, 0, 0, 0, 0, 23, 0, 0, 23}, {50000, {230, NULL}}, {Outros, Comercial}}                        |\n",
            "|{145372-EZKAKSWM, Website}|{{Rio de Janeiro, {-22.835609, -43.392253}, Ricardo de Albuquerque, Zona Norte}, {0, 0, 0, 0, 0, 60, 0, 0, 60}, {45000, {NULL, NULL}}, {Outros, Comercial}}      |\n",
            "|{792086-NWNQTDYL, Website}|{{Rio de Janeiro, {-22.885306, -43.253044}, Jacarezinho, Zona Norte}, {1, 1, 0, 1, 0, 35, 0, 0, 33}, {45336, {0, 0}}, {Apartamento, Residencial}}                |\n",
            "|{339622-MNZGLKTZ, Website}|{{Rio de Janeiro, {-22.990425, -43.635505}, Guaratiba, Zona Oeste}, {0, 0, 0, 0, 0, 120, 0, 0, 120}, {45000, {0, 0}}, {Outros, Residencial}}                     |\n",
            "|{952338-SVULQMXR, Website}|{{Rio de Janeiro, {-22.877982, -43.651456}, Santa Cruz, Zona Oeste}, {0, 0, 0, 0, 0, 468, 0, 0, 468}, {45000, {0, 0}}, {Outros, Residencial}}                    |\n",
            "|{570439-LDICQOXZ, Website}|{{Rio de Janeiro, {-22.998183, -43.504337}, Vargem Grande, Zona Oeste}, {0, 0, 0, 0, 0, 180, 1, 0, 180}, {50000, {0, 0}}, {Outros, Residencial}}                 |\n",
            "|{684023-YTBNKLLO, Website}|{{Rio de Janeiro, {-22.843794, -43.512464}, Bangu, Zona Oeste}, {0, 0, 0, 0, 0, 128, 0, 0, 128}, {50000, {0, 0}}, {Outros, Residencial}}                         |\n",
            "|{629412-VKUMMAVR, Website}|{{Rio de Janeiro, {-22.91077, -43.37182}, Tanque, Zona Oeste}, {0, 0, 0, 0, 0, 82, 1, 0, 82}, {45000, {300, 0}}, {Outros, Residencial}}                          |\n",
            "|{041590-HMJIRKDX, Website}|{{Rio de Janeiro, {-22.910099, -43.17797}, Centro, Zona Central}, {0, 0, 0, 1, 0, 5, 0, 0, 5}, {45000, {0, 0}}, {Outros, Comercial}}                             |\n",
            "|{870098-XTRYJAGY, Website}|{{Rio de Janeiro, {-22.867219, -43.335067}, Madureira, Zona Norte}, {1, 0, 0, 0, 0, 350, 0, 0, 350}, {50000, {0, 1600}}, {Outros, Comercial}}                    |\n",
            "|{951104-MACIAPIS, Website}|{{Rio de Janeiro, {-22.897014, -43.201575}, Santo Cristo, Zona Central}, {2, 3, 20, 1, 1, 0, 20, 19, 70}, {45000, {350, 120}}, {Apartamento, Residencial}}       |\n",
            "|{375665-GHMFEZXX, Website}|{{Rio de Janeiro, {-22.902419, -43.20952}, Santo Cristo, Zona Central}, {2, 3, 20, 1, 1, 0, 20, 19, 70}, {50000, {350, 120}}, {Apartamento, Residencial}}        |\n",
            "|{441711-LRTWHRUA, Website}|{{Rio de Janeiro, {-22.989852, -43.623097}, Pedra de Guaratiba, Zona Oeste}, {1, 1, 0, 0, 0, 45, 2, 0, 37}, {50000, {0, 0}}, {Apartamento, Residencial}}         |\n",
            "+--------------------------+-----------------------------------------------------------------------------------------------------------------------------------------------------------------+\n",
            "only showing top 20 rows\n",
            "\n"
          ]
        }
      ]
    },
    {
      "cell_type": "code",
      "source": [
        "dados.count()"
      ],
      "metadata": {
        "id": "wOXJOUgGpi9z",
        "colab": {
          "base_uri": "https://localhost:8080/"
        },
        "outputId": "ac70899e-918f-458a-dcaf-1afe58664ef7"
      },
      "execution_count": 8,
      "outputs": [
        {
          "output_type": "execute_result",
          "data": {
            "text/plain": [
              "73615"
            ]
          },
          "metadata": {},
          "execution_count": 8
        }
      ]
    },
    {
      "cell_type": "markdown",
      "source": [
        "## **Seleção de *Features***"
      ],
      "metadata": {
        "id": "blFAMaSBVV2u"
      }
    },
    {
      "cell_type": "code",
      "source": [
        "dados\\\n",
        "    .select('ident.customerID', 'listing.*')\\\n",
        "    .show(truncate=False)"
      ],
      "metadata": {
        "id": "teee6m27l-8e",
        "colab": {
          "base_uri": "https://localhost:8080/"
        },
        "outputId": "0ae9b0e8-9271-4b44-b256-7c1cde023cc3"
      },
      "execution_count": 9,
      "outputs": [
        {
          "output_type": "stream",
          "name": "stdout",
          "text": [
            "+---------------+--------------------------------------------------------------------------------+-------------------------------+---------------------+--------------------------+\n",
            "|customerID     |address                                                                         |features                       |prices               |types                     |\n",
            "+---------------+--------------------------------------------------------------------------------+-------------------------------+---------------------+--------------------------+\n",
            "|775564-BOJSMVON|{Rio de Janeiro, {-22.909429, -43.413557}, Taquara, Zona Oeste}                 |{0, 0, 0, 1, 0, 62, 0, 0, 62}  |{45000, {150, 0}}    |{Outros, Residencial}     |\n",
            "|660895-AUENKNYY|{Rio de Janeiro, {-22.869698, -43.509141}, Santíssimo, Zona Oeste}              |{1, 2, 0, 1, 0, 0, 0, 0, 44}   |{45000, {120, 0}}    |{Apartamento, Residencial}|\n",
            "|751522-JESYFEQL|{Rio de Janeiro, {-22.986927, -43.646786}, Pedra de Guaratiba, Zona Oeste}      |{0, 0, 0, 0, 0, 132, 0, 0, 132}|{50000, {100, 0}}    |{Outros, Residencial}     |\n",
            "|714052-GAAEWYKS|{Rio de Janeiro, {-22.881977, -43.330818}, Cascadura, Zona Norte}               |{1, 0, 0, 0, 0, 32, 3, 0, 32}  |{45000, {468, 346}}  |{Outros, Comercial}       |\n",
            "|568886-ZIBFOMCC|{Rio de Janeiro, {-23.027653, -43.480742}, Recreio dos Bandeirantes, Zona Oeste}|{2, 3, 3, 1, 1, 0, 2, 4, 60}   |{50000, {400, 120}}  |{Apartamento, Residencial}|\n",
            "|526755-OBLTYTEN|{Rio de Janeiro, {-22.966059, -43.571183}, Guaratiba, Zona Oeste}               |{0, 0, 0, 0, 0, 200, 0, 0, 200}|{50000, {0, NULL}}   |{Outros, Residencial}     |\n",
            "|593569-CJLMNFGW|{Rio de Janeiro, {-22.939028, -43.3453}, Freguesia (Jacarepaguá), Zona Oeste}   |{1, 0, 0, 0, 0, 25, 2, 0, 25}  |{50000, {801, 211}}  |{Outros, Comercial}       |\n",
            "|989181-RYJOLMCU|{Rio de Janeiro, {-22.841509, -43.278855}, Penha, Zona Norte}                   |{1, 0, 0, 0, 0, 23, 0, 0, 23}  |{50000, {230, NULL}} |{Outros, Comercial}       |\n",
            "|145372-EZKAKSWM|{Rio de Janeiro, {-22.835609, -43.392253}, Ricardo de Albuquerque, Zona Norte}  |{0, 0, 0, 0, 0, 60, 0, 0, 60}  |{45000, {NULL, NULL}}|{Outros, Comercial}       |\n",
            "|792086-NWNQTDYL|{Rio de Janeiro, {-22.885306, -43.253044}, Jacarezinho, Zona Norte}             |{1, 1, 0, 1, 0, 35, 0, 0, 33}  |{45336, {0, 0}}      |{Apartamento, Residencial}|\n",
            "|339622-MNZGLKTZ|{Rio de Janeiro, {-22.990425, -43.635505}, Guaratiba, Zona Oeste}               |{0, 0, 0, 0, 0, 120, 0, 0, 120}|{45000, {0, 0}}      |{Outros, Residencial}     |\n",
            "|952338-SVULQMXR|{Rio de Janeiro, {-22.877982, -43.651456}, Santa Cruz, Zona Oeste}              |{0, 0, 0, 0, 0, 468, 0, 0, 468}|{45000, {0, 0}}      |{Outros, Residencial}     |\n",
            "|570439-LDICQOXZ|{Rio de Janeiro, {-22.998183, -43.504337}, Vargem Grande, Zona Oeste}           |{0, 0, 0, 0, 0, 180, 1, 0, 180}|{50000, {0, 0}}      |{Outros, Residencial}     |\n",
            "|684023-YTBNKLLO|{Rio de Janeiro, {-22.843794, -43.512464}, Bangu, Zona Oeste}                   |{0, 0, 0, 0, 0, 128, 0, 0, 128}|{50000, {0, 0}}      |{Outros, Residencial}     |\n",
            "|629412-VKUMMAVR|{Rio de Janeiro, {-22.91077, -43.37182}, Tanque, Zona Oeste}                    |{0, 0, 0, 0, 0, 82, 1, 0, 82}  |{45000, {300, 0}}    |{Outros, Residencial}     |\n",
            "|041590-HMJIRKDX|{Rio de Janeiro, {-22.910099, -43.17797}, Centro, Zona Central}                 |{0, 0, 0, 1, 0, 5, 0, 0, 5}    |{45000, {0, 0}}      |{Outros, Comercial}       |\n",
            "|870098-XTRYJAGY|{Rio de Janeiro, {-22.867219, -43.335067}, Madureira, Zona Norte}               |{1, 0, 0, 0, 0, 350, 0, 0, 350}|{50000, {0, 1600}}   |{Outros, Comercial}       |\n",
            "|951104-MACIAPIS|{Rio de Janeiro, {-22.897014, -43.201575}, Santo Cristo, Zona Central}          |{2, 3, 20, 1, 1, 0, 20, 19, 70}|{45000, {350, 120}}  |{Apartamento, Residencial}|\n",
            "|375665-GHMFEZXX|{Rio de Janeiro, {-22.902419, -43.20952}, Santo Cristo, Zona Central}           |{2, 3, 20, 1, 1, 0, 20, 19, 70}|{50000, {350, 120}}  |{Apartamento, Residencial}|\n",
            "|441711-LRTWHRUA|{Rio de Janeiro, {-22.989852, -43.623097}, Pedra de Guaratiba, Zona Oeste}      |{1, 1, 0, 0, 0, 45, 2, 0, 37}  |{50000, {0, 0}}      |{Apartamento, Residencial}|\n",
            "+---------------+--------------------------------------------------------------------------------+-------------------------------+---------------------+--------------------------+\n",
            "only showing top 20 rows\n",
            "\n"
          ]
        }
      ]
    },
    {
      "cell_type": "code",
      "source": [
        "dados\\\n",
        "    .select('ident.customerID', 'listing.types.*', 'listing.features.*', 'listing.address.*', 'listing.prices.price', 'listing.prices.tax.*')\\\n",
        "    .show(truncate=False)"
      ],
      "metadata": {
        "id": "tNEl8-Pg-A8f",
        "colab": {
          "base_uri": "https://localhost:8080/"
        },
        "outputId": "b7a59ea0-53b3-4ab4-92f0-03a6babf461a"
      },
      "execution_count": 10,
      "outputs": [
        {
          "output_type": "stream",
          "name": "stdout",
          "text": [
            "+---------------+-----------+-----------+---------+--------+------+-------------+------+----------+---------+---------------+-----------+--------------+------------------------+------------------------+------------+-----+-----+----+\n",
            "|customerID     |unit       |usage      |bathrooms|bedrooms|floors|parkingSpaces|suites|totalAreas|unitFloor|unitsOnTheFloor|usableAreas|city          |location                |neighborhood            |zone        |price|condo|iptu|\n",
            "+---------------+-----------+-----------+---------+--------+------+-------------+------+----------+---------+---------------+-----------+--------------+------------------------+------------------------+------------+-----+-----+----+\n",
            "|775564-BOJSMVON|Outros     |Residencial|0        |0       |0     |1            |0     |62        |0        |0              |62         |Rio de Janeiro|{-22.909429, -43.413557}|Taquara                 |Zona Oeste  |45000|150  |0   |\n",
            "|660895-AUENKNYY|Apartamento|Residencial|1        |2       |0     |1            |0     |0         |0        |0              |44         |Rio de Janeiro|{-22.869698, -43.509141}|Santíssimo              |Zona Oeste  |45000|120  |0   |\n",
            "|751522-JESYFEQL|Outros     |Residencial|0        |0       |0     |0            |0     |132       |0        |0              |132        |Rio de Janeiro|{-22.986927, -43.646786}|Pedra de Guaratiba      |Zona Oeste  |50000|100  |0   |\n",
            "|714052-GAAEWYKS|Outros     |Comercial  |1        |0       |0     |0            |0     |32        |3        |0              |32         |Rio de Janeiro|{-22.881977, -43.330818}|Cascadura               |Zona Norte  |45000|468  |346 |\n",
            "|568886-ZIBFOMCC|Apartamento|Residencial|2        |3       |3     |1            |1     |0         |2        |4              |60         |Rio de Janeiro|{-23.027653, -43.480742}|Recreio dos Bandeirantes|Zona Oeste  |50000|400  |120 |\n",
            "|526755-OBLTYTEN|Outros     |Residencial|0        |0       |0     |0            |0     |200       |0        |0              |200        |Rio de Janeiro|{-22.966059, -43.571183}|Guaratiba               |Zona Oeste  |50000|0    |NULL|\n",
            "|593569-CJLMNFGW|Outros     |Comercial  |1        |0       |0     |0            |0     |25        |2        |0              |25         |Rio de Janeiro|{-22.939028, -43.3453}  |Freguesia (Jacarepaguá) |Zona Oeste  |50000|801  |211 |\n",
            "|989181-RYJOLMCU|Outros     |Comercial  |1        |0       |0     |0            |0     |23        |0        |0              |23         |Rio de Janeiro|{-22.841509, -43.278855}|Penha                   |Zona Norte  |50000|230  |NULL|\n",
            "|145372-EZKAKSWM|Outros     |Comercial  |0        |0       |0     |0            |0     |60        |0        |0              |60         |Rio de Janeiro|{-22.835609, -43.392253}|Ricardo de Albuquerque  |Zona Norte  |45000|NULL |NULL|\n",
            "|792086-NWNQTDYL|Apartamento|Residencial|1        |1       |0     |1            |0     |35        |0        |0              |33         |Rio de Janeiro|{-22.885306, -43.253044}|Jacarezinho             |Zona Norte  |45336|0    |0   |\n",
            "|339622-MNZGLKTZ|Outros     |Residencial|0        |0       |0     |0            |0     |120       |0        |0              |120        |Rio de Janeiro|{-22.990425, -43.635505}|Guaratiba               |Zona Oeste  |45000|0    |0   |\n",
            "|952338-SVULQMXR|Outros     |Residencial|0        |0       |0     |0            |0     |468       |0        |0              |468        |Rio de Janeiro|{-22.877982, -43.651456}|Santa Cruz              |Zona Oeste  |45000|0    |0   |\n",
            "|570439-LDICQOXZ|Outros     |Residencial|0        |0       |0     |0            |0     |180       |1        |0              |180        |Rio de Janeiro|{-22.998183, -43.504337}|Vargem Grande           |Zona Oeste  |50000|0    |0   |\n",
            "|684023-YTBNKLLO|Outros     |Residencial|0        |0       |0     |0            |0     |128       |0        |0              |128        |Rio de Janeiro|{-22.843794, -43.512464}|Bangu                   |Zona Oeste  |50000|0    |0   |\n",
            "|629412-VKUMMAVR|Outros     |Residencial|0        |0       |0     |0            |0     |82        |1        |0              |82         |Rio de Janeiro|{-22.91077, -43.37182}  |Tanque                  |Zona Oeste  |45000|300  |0   |\n",
            "|041590-HMJIRKDX|Outros     |Comercial  |0        |0       |0     |1            |0     |5         |0        |0              |5          |Rio de Janeiro|{-22.910099, -43.17797} |Centro                  |Zona Central|45000|0    |0   |\n",
            "|870098-XTRYJAGY|Outros     |Comercial  |1        |0       |0     |0            |0     |350       |0        |0              |350        |Rio de Janeiro|{-22.867219, -43.335067}|Madureira               |Zona Norte  |50000|0    |1600|\n",
            "|951104-MACIAPIS|Apartamento|Residencial|2        |3       |20    |1            |1     |0         |20       |19             |70         |Rio de Janeiro|{-22.897014, -43.201575}|Santo Cristo            |Zona Central|45000|350  |120 |\n",
            "|375665-GHMFEZXX|Apartamento|Residencial|2        |3       |20    |1            |1     |0         |20       |19             |70         |Rio de Janeiro|{-22.902419, -43.20952} |Santo Cristo            |Zona Central|50000|350  |120 |\n",
            "|441711-LRTWHRUA|Apartamento|Residencial|1        |1       |0     |0            |0     |45        |2        |0              |37         |Rio de Janeiro|{-22.989852, -43.623097}|Pedra de Guaratiba      |Zona Oeste  |50000|0    |0   |\n",
            "+---------------+-----------+-----------+---------+--------+------+-------------+------+----------+---------+---------------+-----------+--------------+------------------------+------------------------+------------+-----+-----+----+\n",
            "only showing top 20 rows\n",
            "\n"
          ]
        }
      ]
    },
    {
      "cell_type": "markdown",
      "source": [
        "Verificação de **cidades dos imóveis** do dataset"
      ],
      "metadata": {
        "id": "__0J_lJlzve2"
      }
    },
    {
      "cell_type": "code",
      "source": [
        "dados\\\n",
        "    .select('ident.customerID', 'listing.types.*', 'listing.features.*', 'listing.address.*', 'listing.prices.price', 'listing.prices.tax.*')\\\n",
        "    .select('city')\\\n",
        "    .groupBy('city')\\\n",
        "    .count()\\\n",
        "    .show(truncate=False)"
      ],
      "metadata": {
        "colab": {
          "base_uri": "https://localhost:8080/"
        },
        "id": "TpuIiMlS5fj9",
        "outputId": "f2a48d05-9af1-47a8-bb78-7ff3d33a4944"
      },
      "execution_count": 11,
      "outputs": [
        {
          "output_type": "stream",
          "name": "stdout",
          "text": [
            "+------------------+-----+\n",
            "|city              |count|\n",
            "+------------------+-----+\n",
            "|Cachoeirinha      |1    |\n",
            "|São Gonçalo       |2    |\n",
            "|Queimados         |3    |\n",
            "|São João de Meriti|1    |\n",
            "|Rio de Janeiro    |73607|\n",
            "|Armação dos Búzios|1    |\n",
            "+------------------+-----+\n",
            "\n"
          ]
        }
      ]
    },
    {
      "cell_type": "markdown",
      "source": [
        "Como os dados dos imóveis são, em maioria, do Rio de Janeiro (RJ), será **removido os dados não pertencentes a cidade RJ**, bem como será excluída a feature city da análise."
      ],
      "metadata": {
        "id": "5KtWrGr0z3qF"
      }
    },
    {
      "cell_type": "code",
      "source": [
        "dataset = dados\\\n",
        "    .select('ident.customerID', 'listing.types.*', 'listing.features.*', 'listing.address.*', 'listing.prices.price', 'listing.prices.tax.*') \\\n",
        "    .where(f.col(\"city\") == \"Rio de Janeiro\") \\\n",
        "    .drop('location', 'totalAreas')"
      ],
      "metadata": {
        "id": "kvJMKad24PsF"
      },
      "execution_count": 12,
      "outputs": []
    },
    {
      "cell_type": "code",
      "source": [
        "# Verificação das cidades em dataset\n",
        "dataset.groupBy(\"city\").count().show()"
      ],
      "metadata": {
        "colab": {
          "base_uri": "https://localhost:8080/"
        },
        "id": "ft1FDVMJ55cs",
        "outputId": "3c6e92c2-802c-406a-96cc-170d85faacac"
      },
      "execution_count": 13,
      "outputs": [
        {
          "output_type": "stream",
          "name": "stdout",
          "text": [
            "+--------------+-----+\n",
            "|          city|count|\n",
            "+--------------+-----+\n",
            "|Rio de Janeiro|73607|\n",
            "+--------------+-----+\n",
            "\n"
          ]
        }
      ]
    },
    {
      "cell_type": "markdown",
      "source": [
        "**Remoção da Feature city** somente após remoção dos valores diferentes de \"Rio de Janeiro\""
      ],
      "metadata": {
        "id": "DYpkYi0v8xkt"
      }
    },
    {
      "cell_type": "code",
      "source": [
        "dataset = dados\\\n",
        "    .select('ident.customerID', 'listing.types.*', 'listing.features.*', 'listing.address.*', 'listing.prices.price', 'listing.prices.tax.*')\\\n",
        "    .drop('city','location', 'totalAreas')"
      ],
      "metadata": {
        "id": "5pxKC1S6dK1w"
      },
      "execution_count": 14,
      "outputs": []
    },
    {
      "cell_type": "markdown",
      "source": [
        "## **Tratamento de Dados**"
      ],
      "metadata": {
        "id": "FLn2a7ym7MLp"
      }
    },
    {
      "cell_type": "code",
      "source": [
        "# Verificação dos tipos das variáveis\n",
        "dataset.printSchema()"
      ],
      "metadata": {
        "colab": {
          "base_uri": "https://localhost:8080/"
        },
        "id": "KTiXdyvW9l4d",
        "outputId": "af42cf9f-54c9-45f4-cbf9-60d346939e38"
      },
      "execution_count": 15,
      "outputs": [
        {
          "output_type": "stream",
          "name": "stdout",
          "text": [
            "root\n",
            " |-- customerID: string (nullable = true)\n",
            " |-- unit: string (nullable = true)\n",
            " |-- usage: string (nullable = true)\n",
            " |-- bathrooms: long (nullable = true)\n",
            " |-- bedrooms: long (nullable = true)\n",
            " |-- floors: long (nullable = true)\n",
            " |-- parkingSpaces: long (nullable = true)\n",
            " |-- suites: long (nullable = true)\n",
            " |-- unitFloor: long (nullable = true)\n",
            " |-- unitsOnTheFloor: long (nullable = true)\n",
            " |-- usableAreas: string (nullable = true)\n",
            " |-- neighborhood: string (nullable = true)\n",
            " |-- zone: string (nullable = true)\n",
            " |-- price: string (nullable = true)\n",
            " |-- condo: string (nullable = true)\n",
            " |-- iptu: string (nullable = true)\n",
            "\n"
          ]
        }
      ]
    },
    {
      "cell_type": "code",
      "source": [
        "# Verificação de como ficaria o tratamento dos tipos incorretos\n",
        "dataset\\\n",
        "    .withColumn('usableAreas', dataset['usableAreas'].cast(IntegerType()))\\\n",
        "    .withColumn('price', dataset['price'].cast(DoubleType()))\\\n",
        "    .withColumn('condo', dataset['condo'].cast(DoubleType()))\\\n",
        "    .withColumn('iptu', dataset['iptu'].cast(DoubleType()))\\\n",
        "    .printSchema()"
      ],
      "metadata": {
        "id": "M2Qx3VnFwLth",
        "colab": {
          "base_uri": "https://localhost:8080/"
        },
        "outputId": "16edb351-3092-41b7-b413-6d77c81b4493"
      },
      "execution_count": 16,
      "outputs": [
        {
          "output_type": "stream",
          "name": "stdout",
          "text": [
            "root\n",
            " |-- customerID: string (nullable = true)\n",
            " |-- unit: string (nullable = true)\n",
            " |-- usage: string (nullable = true)\n",
            " |-- bathrooms: long (nullable = true)\n",
            " |-- bedrooms: long (nullable = true)\n",
            " |-- floors: long (nullable = true)\n",
            " |-- parkingSpaces: long (nullable = true)\n",
            " |-- suites: long (nullable = true)\n",
            " |-- unitFloor: long (nullable = true)\n",
            " |-- unitsOnTheFloor: long (nullable = true)\n",
            " |-- usableAreas: integer (nullable = true)\n",
            " |-- neighborhood: string (nullable = true)\n",
            " |-- zone: string (nullable = true)\n",
            " |-- price: double (nullable = true)\n",
            " |-- condo: double (nullable = true)\n",
            " |-- iptu: double (nullable = true)\n",
            "\n"
          ]
        }
      ]
    },
    {
      "cell_type": "code",
      "source": [
        "# Validação do tratamento dos tipos incorretos\n",
        "dataset = dataset\\\n",
        "    .withColumn('usableAreas', dataset['usableAreas'].cast(IntegerType()))\\\n",
        "    .withColumn('price', dataset['price'].cast(DoubleType()))\\\n",
        "    .withColumn('condo', dataset['condo'].cast(DoubleType()))\\\n",
        "    .withColumn('iptu', dataset['iptu'].cast(DoubleType()))"
      ],
      "metadata": {
        "id": "vsIC1pc5vmGd"
      },
      "execution_count": 17,
      "outputs": []
    },
    {
      "cell_type": "markdown",
      "source": [
        "Verificação dos **tipos de imóveis** presentes no dataset"
      ],
      "metadata": {
        "id": "uraJ0gqs-ORV"
      }
    },
    {
      "cell_type": "code",
      "source": [
        "dataset\\\n",
        "    .select('usage')\\\n",
        "    .groupBy('usage')\\\n",
        "    .count()\\\n",
        "    .show()"
      ],
      "metadata": {
        "id": "HVfjs5MBw5-a",
        "colab": {
          "base_uri": "https://localhost:8080/"
        },
        "outputId": "391a2f9a-ab6c-4960-cec0-9864040b51e8"
      },
      "execution_count": 18,
      "outputs": [
        {
          "output_type": "stream",
          "name": "stdout",
          "text": [
            "+-----------+-----+\n",
            "|      usage|count|\n",
            "+-----------+-----+\n",
            "|  Comercial| 4019|\n",
            "|Residencial|69596|\n",
            "+-----------+-----+\n",
            "\n"
          ]
        }
      ]
    },
    {
      "cell_type": "markdown",
      "source": [
        "Escolha de manter **somente os imóveis do tipo Residencial (=95% dos dados)**"
      ],
      "metadata": {
        "id": "KbB3OYcG-ddk"
      }
    },
    {
      "cell_type": "code",
      "source": [
        "dataset = dataset\\\n",
        "    .select('*')\\\n",
        "    .where('usage==\"Residencial\"')"
      ],
      "metadata": {
        "id": "Z5cSmXRCvmEC"
      },
      "execution_count": 19,
      "outputs": []
    },
    {
      "cell_type": "code",
      "source": [
        "# Verificação dos tipos de imóveis\n",
        "dataset\\\n",
        "    .select('unit')\\\n",
        "    .groupBy('unit')\\\n",
        "    .count()\\\n",
        "    .show()"
      ],
      "metadata": {
        "id": "4PxmiCyhvlzQ",
        "colab": {
          "base_uri": "https://localhost:8080/"
        },
        "outputId": "068d681e-643b-44a8-97be-f17ae6756928"
      },
      "execution_count": 20,
      "outputs": [
        {
          "output_type": "stream",
          "name": "stdout",
          "text": [
            "+-----------+-----+\n",
            "|       unit|count|\n",
            "+-----------+-----+\n",
            "|     Outros| 1190|\n",
            "|Apartamento|59106|\n",
            "|       Casa| 9300|\n",
            "+-----------+-----+\n",
            "\n"
          ]
        }
      ]
    },
    {
      "cell_type": "markdown",
      "source": [
        "**Observação:** seria necessário verificar o que seria **\"Outros\" em \"unit\"** nesse banco de dados"
      ],
      "metadata": {
        "id": "bdxfP3um_f9s"
      }
    },
    {
      "cell_type": "code",
      "source": [
        "# Verificação de regiões\n",
        "dataset\\\n",
        "    .select('zone')\\\n",
        "    .groupBy('zone')\\\n",
        "    .count()\\\n",
        "    .show()"
      ],
      "metadata": {
        "id": "e0OmBS_D9ggH",
        "colab": {
          "base_uri": "https://localhost:8080/"
        },
        "outputId": "7b6c18fa-be0a-49f3-9d9c-50542418a4d7"
      },
      "execution_count": 21,
      "outputs": [
        {
          "output_type": "stream",
          "name": "stdout",
          "text": [
            "+------------+-----+\n",
            "|        zone|count|\n",
            "+------------+-----+\n",
            "|  Zona Norte|14379|\n",
            "|  Zona Oeste|35523|\n",
            "|Zona Central| 1002|\n",
            "|    Zona Sul|18535|\n",
            "|            |  157|\n",
            "+------------+-----+\n",
            "\n"
          ]
        }
      ]
    },
    {
      "cell_type": "markdown",
      "source": [
        "Foi verificado valores ***nulos em \"zone\"***, esses dados devem ser tratados"
      ],
      "metadata": {
        "id": "J-gFAnN8_82E"
      }
    },
    {
      "cell_type": "markdown",
      "source": [
        "### Tratamento para dados faltantes\n"
      ],
      "metadata": {
        "id": "lA0QydxEij3D"
      }
    },
    {
      "cell_type": "code",
      "source": [
        "# Verificação dos dados nulos\n",
        "dataset\\\n",
        "    .select([f.count(f.when(f.isnan(c) | f.isnull(c), True)).alias(c) for c in dataset.columns])\\\n",
        "    .show()"
      ],
      "metadata": {
        "id": "iyCoitzEUoB0",
        "colab": {
          "base_uri": "https://localhost:8080/"
        },
        "outputId": "03c3f272-8642-4aa1-9cb0-7e2a347c77fc"
      },
      "execution_count": 22,
      "outputs": [
        {
          "output_type": "stream",
          "name": "stdout",
          "text": [
            "+----------+----+-----+---------+--------+------+-------------+------+---------+---------------+-----------+------------+----+-----+-----+----+\n",
            "|customerID|unit|usage|bathrooms|bedrooms|floors|parkingSpaces|suites|unitFloor|unitsOnTheFloor|usableAreas|neighborhood|zone|price|condo|iptu|\n",
            "+----------+----+-----+---------+--------+------+-------------+------+---------+---------------+-----------+------------+----+-----+-----+----+\n",
            "|         0|   0|    0|        0|       0|     0|            0|     0|        0|              0|          0|           0|   0|    0| 6061|8726|\n",
            "+----------+----+-----+---------+--------+------+-------------+------+---------+---------------+-----------+------------+----+-----+-----+----+\n",
            "\n"
          ]
        }
      ]
    },
    {
      "cell_type": "markdown",
      "source": [
        "Preenchimentos dos valores ***nulos com zero***"
      ],
      "metadata": {
        "id": "tQas124YApcU"
      }
    },
    {
      "cell_type": "code",
      "source": [
        "# Verificação de como ficaria o tratamento dos dados faltantes\n",
        "dataset\\\n",
        "    .select('*')\\\n",
        "    .na\\\n",
        "    .fill(0)\\\n",
        "    .show()"
      ],
      "metadata": {
        "id": "19VOMNHcWBxr",
        "colab": {
          "base_uri": "https://localhost:8080/"
        },
        "outputId": "ccb365f0-fe41-4f28-d91e-80e66b1f34ea"
      },
      "execution_count": 23,
      "outputs": [
        {
          "output_type": "stream",
          "name": "stdout",
          "text": [
            "+---------------+-----------+-----------+---------+--------+------+-------------+------+---------+---------------+-----------+--------------------+------------+-------+-----+-----+\n",
            "|     customerID|       unit|      usage|bathrooms|bedrooms|floors|parkingSpaces|suites|unitFloor|unitsOnTheFloor|usableAreas|        neighborhood|        zone|  price|condo| iptu|\n",
            "+---------------+-----------+-----------+---------+--------+------+-------------+------+---------+---------------+-----------+--------------------+------------+-------+-----+-----+\n",
            "|775564-BOJSMVON|     Outros|Residencial|        0|       0|     0|            1|     0|        0|              0|         62|             Taquara|  Zona Oeste|45000.0|150.0|  0.0|\n",
            "|660895-AUENKNYY|Apartamento|Residencial|        1|       2|     0|            1|     0|        0|              0|         44|          Santíssimo|  Zona Oeste|45000.0|120.0|  0.0|\n",
            "|751522-JESYFEQL|     Outros|Residencial|        0|       0|     0|            0|     0|        0|              0|        132|  Pedra de Guaratiba|  Zona Oeste|50000.0|100.0|  0.0|\n",
            "|568886-ZIBFOMCC|Apartamento|Residencial|        2|       3|     3|            1|     1|        2|              4|         60|Recreio dos Bande...|  Zona Oeste|50000.0|400.0|120.0|\n",
            "|526755-OBLTYTEN|     Outros|Residencial|        0|       0|     0|            0|     0|        0|              0|        200|           Guaratiba|  Zona Oeste|50000.0|  0.0|  0.0|\n",
            "|792086-NWNQTDYL|Apartamento|Residencial|        1|       1|     0|            1|     0|        0|              0|         33|         Jacarezinho|  Zona Norte|45336.0|  0.0|  0.0|\n",
            "|339622-MNZGLKTZ|     Outros|Residencial|        0|       0|     0|            0|     0|        0|              0|        120|           Guaratiba|  Zona Oeste|45000.0|  0.0|  0.0|\n",
            "|952338-SVULQMXR|     Outros|Residencial|        0|       0|     0|            0|     0|        0|              0|        468|          Santa Cruz|  Zona Oeste|45000.0|  0.0|  0.0|\n",
            "|570439-LDICQOXZ|     Outros|Residencial|        0|       0|     0|            0|     0|        1|              0|        180|       Vargem Grande|  Zona Oeste|50000.0|  0.0|  0.0|\n",
            "|684023-YTBNKLLO|     Outros|Residencial|        0|       0|     0|            0|     0|        0|              0|        128|               Bangu|  Zona Oeste|50000.0|  0.0|  0.0|\n",
            "|629412-VKUMMAVR|     Outros|Residencial|        0|       0|     0|            0|     0|        1|              0|         82|              Tanque|  Zona Oeste|45000.0|300.0|  0.0|\n",
            "|951104-MACIAPIS|Apartamento|Residencial|        2|       3|    20|            1|     1|       20|             19|         70|        Santo Cristo|Zona Central|45000.0|350.0|120.0|\n",
            "|375665-GHMFEZXX|Apartamento|Residencial|        2|       3|    20|            1|     1|       20|             19|         70|        Santo Cristo|Zona Central|50000.0|350.0|120.0|\n",
            "|441711-LRTWHRUA|Apartamento|Residencial|        1|       1|     0|            0|     0|        2|              0|         37|  Pedra de Guaratiba|  Zona Oeste|50000.0|  0.0|  0.0|\n",
            "|221946-ENAQETGD|     Outros|Residencial|        0|       0|     0|            0|     0|        0|              0|        120|           Guaratiba|  Zona Oeste|45020.0|  0.0|  0.0|\n",
            "|023787-PTASXXTL|     Outros|Residencial|        0|       0|     0|            0|     0|        0|              0|        120|           Guaratiba|  Zona Oeste|45040.0|  0.0|  0.0|\n",
            "|385687-SWOBLUWG|     Outros|Residencial|        0|       0|     0|            0|     0|        0|              0|        150|          Santa Cruz|  Zona Oeste|45000.0|  0.0|  0.0|\n",
            "|037953-VZOABKON|Apartamento|Residencial|        1|       2|     0|            1|     0|        0|              0|         30|         Coelho Neto|  Zona Norte|45000.0|  0.0|  0.0|\n",
            "|913561-GIAMXOYU|     Outros|Residencial|        0|       0|     0|            0|     0|        0|              0|        128|           Guaratiba|  Zona Oeste|45000.0|  0.0|  0.0|\n",
            "|511928-EYKXPKBU|     Outros|Residencial|        0|       0|     0|            0|     0|        0|              0|        120|           Guaratiba|  Zona Oeste|45070.0|  0.0|  0.0|\n",
            "+---------------+-----------+-----------+---------+--------+------+-------------+------+---------+---------------+-----------+--------------------+------------+-------+-----+-----+\n",
            "only showing top 20 rows\n",
            "\n"
          ]
        }
      ]
    },
    {
      "cell_type": "code",
      "source": [
        "# Validação do tratamento dos dados faltantes\n",
        "dataset = dataset\\\n",
        "    .select('*')\\\n",
        "    .na\\\n",
        "    .fill(0)"
      ],
      "metadata": {
        "id": "tJT-HEZoUwYg"
      },
      "execution_count": 24,
      "outputs": []
    },
    {
      "cell_type": "code",
      "source": [
        "# Contagem dos valores nulos\n",
        "dataset\\\n",
        "    .select([f.count(f.when(f.isnan(c) | f.isnull(c), True)).alias(c) for c in dataset.columns])\\\n",
        "    .show()"
      ],
      "metadata": {
        "id": "ygZK2UCUipRf",
        "colab": {
          "base_uri": "https://localhost:8080/"
        },
        "outputId": "7dae8187-dd0e-46d0-d113-260b4cb15ec2"
      },
      "execution_count": 25,
      "outputs": [
        {
          "output_type": "stream",
          "name": "stdout",
          "text": [
            "+----------+----+-----+---------+--------+------+-------------+------+---------+---------------+-----------+------------+----+-----+-----+----+\n",
            "|customerID|unit|usage|bathrooms|bedrooms|floors|parkingSpaces|suites|unitFloor|unitsOnTheFloor|usableAreas|neighborhood|zone|price|condo|iptu|\n",
            "+----------+----+-----+---------+--------+------+-------------+------+---------+---------------+-----------+------------+----+-----+-----+----+\n",
            "|         0|   0|    0|        0|       0|     0|            0|     0|        0|              0|          0|           0|   0|    0|    0|   0|\n",
            "+----------+----+-----+---------+--------+------+-------------+------+---------+---------------+-----------+------------+----+-----+-----+----+\n",
            "\n"
          ]
        }
      ]
    },
    {
      "cell_type": "markdown",
      "source": [
        "**Remoção dos valores ausentes em zone** por representar uma porcentagem pequena dos dados ***(<1%)***"
      ],
      "metadata": {
        "id": "bWrY29GHBRAM"
      }
    },
    {
      "cell_type": "code",
      "source": [
        "dataset = dataset\\\n",
        "    .where(f.col('zone') != '')"
      ],
      "metadata": {
        "id": "psIu0EXiiPFS"
      },
      "execution_count": 26,
      "outputs": []
    },
    {
      "cell_type": "markdown",
      "source": [
        "## **Preparação dos Dados**"
      ],
      "metadata": {
        "id": "NDpc-Kzvws1x"
      }
    },
    {
      "cell_type": "markdown",
      "source": [
        "### Variáveis Dummy"
      ],
      "metadata": {
        "id": "iwLbx8jhaNPt"
      }
    },
    {
      "cell_type": "markdown",
      "source": [
        "Aplicação de técnica de **Engenharia de Atributos** conhecida como *One-Hot Encoding*, utilizando a função `pivot` do Spark.\n",
        "Conversão dos atributos categóricos textuais, como o tipo de unidade (`unit`), em um formato numérico binário.\n",
        "\n",
        ">\n",
        "\n",
        "\n",
        "Transformação fundamental, pois os algoritmos de Machine Learning operam com dados numéricos, e ao criar colunas que indicam a presença (`1`) ou ausência (`0`) de uma categoria, permitimos que o modelo utilize essa informação valiosa em seu processo de aprendizado."
      ],
      "metadata": {
        "id": "IURCH2MqDHBT"
      }
    },
    {
      "cell_type": "code",
      "source": [
        "dataset\\\n",
        "    .groupBy(\"customerID\")\\\n",
        "    .pivot('unit')\\\n",
        "    .agg(f.lit(1))\\\n",
        "    .na\\\n",
        "    .fill(0)\\\n",
        "    .show()"
      ],
      "metadata": {
        "id": "ssijIwnLaRo1",
        "colab": {
          "base_uri": "https://localhost:8080/"
        },
        "outputId": "7e09bed3-ebb5-4b55-bc1b-f131035847c8"
      },
      "execution_count": 27,
      "outputs": [
        {
          "output_type": "stream",
          "name": "stdout",
          "text": [
            "+---------------+-----------+----+------+\n",
            "|     customerID|Apartamento|Casa|Outros|\n",
            "+---------------+-----------+----+------+\n",
            "|062130-QKYMWGMV|          1|   0|     0|\n",
            "|630945-AEEUPRXI|          0|   1|     0|\n",
            "|994985-OZQNHQKH|          1|   0|     0|\n",
            "|494674-JWXRZIBM|          1|   0|     0|\n",
            "|458844-UJCRFSRI|          1|   0|     0|\n",
            "|155284-BRCDAOIQ|          1|   0|     0|\n",
            "|396742-DUXBHLRU|          1|   0|     0|\n",
            "|916072-ZJXARAXO|          1|   0|     0|\n",
            "|943843-BVTWWHRQ|          1|   0|     0|\n",
            "|193126-MTNIIFQN|          1|   0|     0|\n",
            "|319762-UXTTQYFS|          1|   0|     0|\n",
            "|931151-GZCTKADB|          1|   0|     0|\n",
            "|103840-OFKPFEZJ|          0|   1|     0|\n",
            "|176885-NNKZRQGM|          0|   1|     0|\n",
            "|926638-PBYRAZYR|          1|   0|     0|\n",
            "|744421-IZJWISWB|          1|   0|     0|\n",
            "|530012-TYGLQMER|          1|   0|     0|\n",
            "|209407-GTEUOVKR|          1|   0|     0|\n",
            "|289667-ZPHGFHJH|          1|   0|     0|\n",
            "|859388-EYTPMKER|          1|   0|     0|\n",
            "+---------------+-----------+----+------+\n",
            "only showing top 20 rows\n",
            "\n"
          ]
        }
      ]
    },
    {
      "cell_type": "markdown",
      "source": [
        "Criação de DataFrames de features para aplicação da técnica **one-hot encoding** nas variáveis multicategóricas"
      ],
      "metadata": {
        "id": "O6Gj5kxWG9Lu"
      }
    },
    {
      "cell_type": "code",
      "source": [
        "unit = dataset\\\n",
        "    .groupBy('customerID')\\\n",
        "    .pivot('unit')\\\n",
        "    .agg(f.lit(1))\\\n",
        "    .na\\\n",
        "    .fill(0)"
      ],
      "metadata": {
        "id": "A52cgVYpanBP"
      },
      "execution_count": 28,
      "outputs": []
    },
    {
      "cell_type": "code",
      "source": [
        "zone = dataset\\\n",
        "    .groupBy('customerID')\\\n",
        "    .pivot('zone')\\\n",
        "    .agg(f.lit(1))\\\n",
        "    .na\\\n",
        "    .fill(0)"
      ],
      "metadata": {
        "id": "P9XSsXEWfYYZ"
      },
      "execution_count": 29,
      "outputs": []
    },
    {
      "cell_type": "markdown",
      "source": [
        "Após a criação dos DataFrames de features, o passo seguinte é consolidar todas essas informações em um único conjunto de dados que servirá como entrada para o modelo de Machine Learning.\n",
        "\n",
        "Para isso, utilizamos a função `join` para mesclar sequencialmente o dataset principal com os DataFrames de features (`unit` e `zone`). A junção é realizada utilizando a coluna `customerID` como a chave comum, que serve como o elo de ligação entre as diferentes fontes de dados.\n",
        "\n",
        "A escolha do método `how='inner'` é estratégica. Um **inner join** garante que o dataset final conterá apenas os `customerID`s que estão presentes em **todas** as tabelas que estão sendo unidas. Essa abordagem cria um conjunto de dados coeso e completo, eliminando registros parciais ou órfãos que poderiam introduzir ruído ou erros durante o treinamento do modelo. O resultado é uma matriz de features robusta e íntegra, pronta para a próxima etapa de modelagem."
      ],
      "metadata": {
        "id": "8Hlc-BjRIYDy"
      }
    },
    {
      "cell_type": "code",
      "source": [
        "dataset = dataset\\\n",
        "    .join(unit, 'customerID', how='inner')\\\n",
        "    .join(zone, 'customerID', how='inner')"
      ],
      "metadata": {
        "id": "79ZgpLvAffHK"
      },
      "execution_count": 30,
      "outputs": []
    },
    {
      "cell_type": "code",
      "source": [
        "# Verificação do DataFrame após preparação dos dados\n",
        "dataset.show()"
      ],
      "metadata": {
        "id": "GBSX2S9pC9FY",
        "colab": {
          "base_uri": "https://localhost:8080/"
        },
        "outputId": "7db9de08-aa13-47fa-ea03-4a884aea43d0"
      },
      "execution_count": 31,
      "outputs": [
        {
          "output_type": "stream",
          "name": "stdout",
          "text": [
            "+---------------+-----------+-----------+---------+--------+------+-------------+------+---------+---------------+-----------+--------------------+------------+-------+-----+-----+-----------+----+------+------------+----------+----------+--------+\n",
            "|     customerID|       unit|      usage|bathrooms|bedrooms|floors|parkingSpaces|suites|unitFloor|unitsOnTheFloor|usableAreas|        neighborhood|        zone|  price|condo| iptu|Apartamento|Casa|Outros|Zona Central|Zona Norte|Zona Oeste|Zona Sul|\n",
            "+---------------+-----------+-----------+---------+--------+------+-------------+------+---------+---------------+-----------+--------------------+------------+-------+-----+-----+-----------+----+------+------------+----------+----------+--------+\n",
            "|775564-BOJSMVON|     Outros|Residencial|        0|       0|     0|            1|     0|        0|              0|         62|             Taquara|  Zona Oeste|45000.0|150.0|  0.0|          0|   0|     1|           0|         0|         1|       0|\n",
            "|660895-AUENKNYY|Apartamento|Residencial|        1|       2|     0|            1|     0|        0|              0|         44|          Santíssimo|  Zona Oeste|45000.0|120.0|  0.0|          1|   0|     0|           0|         0|         1|       0|\n",
            "|751522-JESYFEQL|     Outros|Residencial|        0|       0|     0|            0|     0|        0|              0|        132|  Pedra de Guaratiba|  Zona Oeste|50000.0|100.0|  0.0|          0|   0|     1|           0|         0|         1|       0|\n",
            "|568886-ZIBFOMCC|Apartamento|Residencial|        2|       3|     3|            1|     1|        2|              4|         60|Recreio dos Bande...|  Zona Oeste|50000.0|400.0|120.0|          1|   0|     0|           0|         0|         1|       0|\n",
            "|526755-OBLTYTEN|     Outros|Residencial|        0|       0|     0|            0|     0|        0|              0|        200|           Guaratiba|  Zona Oeste|50000.0|  0.0|  0.0|          0|   0|     1|           0|         0|         1|       0|\n",
            "|792086-NWNQTDYL|Apartamento|Residencial|        1|       1|     0|            1|     0|        0|              0|         33|         Jacarezinho|  Zona Norte|45336.0|  0.0|  0.0|          1|   0|     0|           0|         1|         0|       0|\n",
            "|339622-MNZGLKTZ|     Outros|Residencial|        0|       0|     0|            0|     0|        0|              0|        120|           Guaratiba|  Zona Oeste|45000.0|  0.0|  0.0|          0|   0|     1|           0|         0|         1|       0|\n",
            "|952338-SVULQMXR|     Outros|Residencial|        0|       0|     0|            0|     0|        0|              0|        468|          Santa Cruz|  Zona Oeste|45000.0|  0.0|  0.0|          0|   0|     1|           0|         0|         1|       0|\n",
            "|570439-LDICQOXZ|     Outros|Residencial|        0|       0|     0|            0|     0|        1|              0|        180|       Vargem Grande|  Zona Oeste|50000.0|  0.0|  0.0|          0|   0|     1|           0|         0|         1|       0|\n",
            "|684023-YTBNKLLO|     Outros|Residencial|        0|       0|     0|            0|     0|        0|              0|        128|               Bangu|  Zona Oeste|50000.0|  0.0|  0.0|          0|   0|     1|           0|         0|         1|       0|\n",
            "|629412-VKUMMAVR|     Outros|Residencial|        0|       0|     0|            0|     0|        1|              0|         82|              Tanque|  Zona Oeste|45000.0|300.0|  0.0|          0|   0|     1|           0|         0|         1|       0|\n",
            "|951104-MACIAPIS|Apartamento|Residencial|        2|       3|    20|            1|     1|       20|             19|         70|        Santo Cristo|Zona Central|45000.0|350.0|120.0|          1|   0|     0|           1|         0|         0|       0|\n",
            "|375665-GHMFEZXX|Apartamento|Residencial|        2|       3|    20|            1|     1|       20|             19|         70|        Santo Cristo|Zona Central|50000.0|350.0|120.0|          1|   0|     0|           1|         0|         0|       0|\n",
            "|441711-LRTWHRUA|Apartamento|Residencial|        1|       1|     0|            0|     0|        2|              0|         37|  Pedra de Guaratiba|  Zona Oeste|50000.0|  0.0|  0.0|          1|   0|     0|           0|         0|         1|       0|\n",
            "|221946-ENAQETGD|     Outros|Residencial|        0|       0|     0|            0|     0|        0|              0|        120|           Guaratiba|  Zona Oeste|45020.0|  0.0|  0.0|          0|   0|     1|           0|         0|         1|       0|\n",
            "|023787-PTASXXTL|     Outros|Residencial|        0|       0|     0|            0|     0|        0|              0|        120|           Guaratiba|  Zona Oeste|45040.0|  0.0|  0.0|          0|   0|     1|           0|         0|         1|       0|\n",
            "|385687-SWOBLUWG|     Outros|Residencial|        0|       0|     0|            0|     0|        0|              0|        150|          Santa Cruz|  Zona Oeste|45000.0|  0.0|  0.0|          0|   0|     1|           0|         0|         1|       0|\n",
            "|037953-VZOABKON|Apartamento|Residencial|        1|       2|     0|            1|     0|        0|              0|         30|         Coelho Neto|  Zona Norte|45000.0|  0.0|  0.0|          1|   0|     0|           0|         1|         0|       0|\n",
            "|913561-GIAMXOYU|     Outros|Residencial|        0|       0|     0|            0|     0|        0|              0|        128|           Guaratiba|  Zona Oeste|45000.0|  0.0|  0.0|          0|   0|     1|           0|         0|         1|       0|\n",
            "|511928-EYKXPKBU|     Outros|Residencial|        0|       0|     0|            0|     0|        0|              0|        120|           Guaratiba|  Zona Oeste|45070.0|  0.0|  0.0|          0|   0|     1|           0|         0|         1|       0|\n",
            "+---------------+-----------+-----------+---------+--------+------+-------------+------+---------+---------------+-----------+--------------------+------------+-------+-----+-----+-----------+----+------+------------+----------+----------+--------+\n",
            "only showing top 20 rows\n",
            "\n"
          ]
        }
      ]
    },
    {
      "cell_type": "markdown",
      "source": [
        "### **Vetorização e Nomenclatura no Spark**"
      ],
      "metadata": {
        "id": "HW8t7H_KJGmb"
      }
    },
    {
      "cell_type": "code",
      "source": [
        "# Alteração da nomenclatura da variável a ser prevista\n",
        "dataset = dataset.withColumnRenamed('price','label')"
      ],
      "metadata": {
        "id": "RUp8CuOhw4_g"
      },
      "execution_count": 32,
      "outputs": []
    },
    {
      "cell_type": "code",
      "source": [
        "# Seleção das features\n",
        "X = [\n",
        "    'bathrooms',\n",
        "    'bedrooms',\n",
        "    'floors',\n",
        "    'parkingSpaces',\n",
        "    'suites',\n",
        "    'unitFloor',\n",
        "    'unitsOnTheFloor',\n",
        "    'usableAreas',\n",
        "    'condo',\n",
        "    'iptu',\n",
        "    'Apartamento',\n",
        "    'Casa',\n",
        "    'Outros',\n",
        "    'Zona Central',\n",
        "    'Zona Norte',\n",
        "    'Zona Oeste',\n",
        "    'Zona Sul'\n",
        "]"
      ],
      "metadata": {
        "id": "scJY9hdKXtvE"
      },
      "execution_count": 33,
      "outputs": []
    },
    {
      "cell_type": "code",
      "source": [
        "# Vetorização usando o objeto assembler utilizando os valores que as funções do Spark esperam receber\n",
        "assembler = VectorAssembler(inputCols = X, outputCol = 'features')"
      ],
      "metadata": {
        "id": "9waOWa6VkUsf"
      },
      "execution_count": 34,
      "outputs": []
    },
    {
      "cell_type": "markdown",
      "source": [
        "Embora a configuração do assembler tenha sido feita, não houve alteração no dataset. Para isso, será criado um **novo dataset preparado para receber as funções de machine learning do Spark.**"
      ],
      "metadata": {
        "id": "2lCOIqupLMqy"
      }
    },
    {
      "cell_type": "code",
      "source": [
        "dataset_prep = assembler.transform(dataset).select('features', 'label')"
      ],
      "metadata": {
        "id": "jM17gf-lxP9l"
      },
      "execution_count": 35,
      "outputs": []
    },
    {
      "cell_type": "markdown",
      "source": [
        "Visualização do **dataset vetorizado.**\n"
      ],
      "metadata": {
        "id": "UfyFUqYpLpFy"
      }
    },
    {
      "cell_type": "code",
      "source": [
        "dataset_prep.show(10, truncate=False)"
      ],
      "metadata": {
        "id": "L6R1ndGklLjG",
        "colab": {
          "base_uri": "https://localhost:8080/"
        },
        "outputId": "1159fa01-31a6-4d20-809a-8edb3f973fab"
      },
      "execution_count": 36,
      "outputs": [
        {
          "output_type": "stream",
          "name": "stdout",
          "text": [
            "+--------------------------------------------------------------------------+-------+\n",
            "|features                                                                  |label  |\n",
            "+--------------------------------------------------------------------------+-------+\n",
            "|(17,[3,7,8,12,15],[1.0,62.0,150.0,1.0,1.0])                               |45000.0|\n",
            "|(17,[0,1,3,7,8,10,15],[1.0,2.0,1.0,44.0,120.0,1.0,1.0])                   |45000.0|\n",
            "|(17,[7,8,12,15],[132.0,100.0,1.0,1.0])                                    |50000.0|\n",
            "|[2.0,3.0,3.0,1.0,1.0,2.0,4.0,60.0,400.0,120.0,1.0,0.0,0.0,0.0,0.0,1.0,0.0]|50000.0|\n",
            "|(17,[7,12,15],[200.0,1.0,1.0])                                            |50000.0|\n",
            "|(17,[0,1,3,7,10,14],[1.0,1.0,1.0,33.0,1.0,1.0])                           |45336.0|\n",
            "|(17,[7,12,15],[120.0,1.0,1.0])                                            |45000.0|\n",
            "|(17,[7,12,15],[468.0,1.0,1.0])                                            |45000.0|\n",
            "|(17,[5,7,12,15],[1.0,180.0,1.0,1.0])                                      |50000.0|\n",
            "|(17,[7,12,15],[128.0,1.0,1.0])                                            |50000.0|\n",
            "+--------------------------------------------------------------------------+-------+\n",
            "only showing top 10 rows\n",
            "\n"
          ]
        }
      ]
    },
    {
      "cell_type": "markdown",
      "source": [],
      "metadata": {
        "id": "98ITNNmQ9s_X"
      }
    },
    {
      "cell_type": "markdown",
      "source": [
        "## **Exploração dos Dados**"
      ],
      "metadata": {
        "id": "_snw4qSJYtFE"
      }
    },
    {
      "cell_type": "markdown",
      "source": [
        "Verificação de **multicolinearidade das features**"
      ],
      "metadata": {
        "id": "MCSgmsaDL9QT"
      }
    },
    {
      "cell_type": "code",
      "source": [
        "correlacao = Correlation.corr(dataset_prep, 'features').collect()"
      ],
      "metadata": {
        "id": "ZV3kDEbc14IM"
      },
      "execution_count": 37,
      "outputs": []
    },
    {
      "cell_type": "code",
      "source": [
        "correlacao"
      ],
      "metadata": {
        "id": "tganfr6CGCeE",
        "colab": {
          "base_uri": "https://localhost:8080/"
        },
        "outputId": "23fb0e7d-76e2-41a5-fa13-3c8561cdc5a6"
      },
      "execution_count": 38,
      "outputs": [
        {
          "output_type": "execute_result",
          "data": {
            "text/plain": [
              "[Row(pearson(features)=DenseMatrix(17, 17, [1.0, 0.6659, -0.0446, 0.4876, 0.7529, 0.0076, -0.1074, 0.5981, ..., 0.0088, 0.1803, -0.1833, -0.0165, -0.073, -0.3084, -0.6176, 1.0], False))]"
            ]
          },
          "metadata": {},
          "execution_count": 38
        }
      ]
    },
    {
      "cell_type": "markdown",
      "source": [
        "\n",
        "\n",
        "*   Correlação em linha (row): mais de uma coluna e uma linha\n",
        "*   Correlação de Pearson das features que é uma **DenseMatrix**\n",
        "*   Seleção apenas do objeto da linha 1 e coluna 1: **Correlação de Pearson**\n",
        "\n",
        "\n"
      ],
      "metadata": {
        "id": "hlKNoOnJMFjT"
      }
    },
    {
      "cell_type": "code",
      "source": [
        "correlacao = Correlation.corr(dataset_prep, 'features').collect()[0][0]"
      ],
      "metadata": {
        "id": "4gnryrRfdTSl"
      },
      "execution_count": 39,
      "outputs": []
    },
    {
      "cell_type": "markdown",
      "source": [
        "Como temos uma matriz densa, ou seja, onde todos os zeros são representados, será necessário transformar em uma **matriz esparsa**, onde os zeros não são representados.\n",
        "- **Transformação em array**"
      ],
      "metadata": {
        "id": "iRXVtNORMzZS"
      }
    },
    {
      "cell_type": "code",
      "source": [
        "correlacao.toArray()"
      ],
      "metadata": {
        "id": "1c6KGVQAcYjC",
        "colab": {
          "base_uri": "https://localhost:8080/"
        },
        "outputId": "91c864f8-eb73-4a82-c323-fab2f9a7c015"
      },
      "execution_count": 40,
      "outputs": [
        {
          "output_type": "execute_result",
          "data": {
            "text/plain": [
              "array([[ 1.00000000e+00,  6.65910814e-01, -4.45907541e-02,\n",
              "         4.87590447e-01,  7.52927830e-01,  7.62425469e-03,\n",
              "        -1.07437445e-01,  5.98072790e-01,  2.00298945e-02,\n",
              "         1.51023977e-02, -2.75457964e-01,  3.43042378e-01,\n",
              "        -1.40183420e-01, -9.73678190e-02, -1.62497441e-01,\n",
              "         2.42345124e-01, -9.87517576e-02],\n",
              "       [ 6.65910814e-01,  1.00000000e+00, -8.21840063e-02,\n",
              "         4.67161260e-01,  6.01199220e-01, -7.16195849e-03,\n",
              "        -1.30814438e-01,  5.63750247e-01,  1.84819307e-02,\n",
              "         1.36391535e-02, -2.58339018e-01,  3.49962189e-01,\n",
              "        -2.05607705e-01, -1.23732152e-01, -1.11711865e-01,\n",
              "         1.63821698e-01, -4.94325200e-02],\n",
              "       [-4.45907541e-02, -8.21840063e-02,  1.00000000e+00,\n",
              "        -4.84861921e-02, -4.81062141e-02,  1.20981700e-01,\n",
              "         7.37717422e-01, -1.03916850e-01,  1.37973623e-02,\n",
              "         6.68849447e-03,  1.53947015e-01, -1.42089598e-01,\n",
              "        -5.19462291e-02,  1.26044467e-01, -1.69262936e-02,\n",
              "        -3.17495417e-02,  1.74019374e-02],\n",
              "       [ 4.87590447e-01,  4.67161260e-01, -4.84861921e-02,\n",
              "         1.00000000e+00,  4.84987652e-01,  3.76755370e-03,\n",
              "        -7.45265146e-02,  4.83731813e-01,  1.80124560e-02,\n",
              "         9.72140387e-03, -2.52745585e-01,  2.93325601e-01,\n",
              "        -7.23593595e-02, -8.64368160e-02, -1.09956571e-01,\n",
              "         2.67989967e-01, -1.78806840e-01],\n",
              "       [ 7.52927830e-01,  6.01199220e-01, -4.81062141e-02,\n",
              "         4.84987652e-01,  1.00000000e+00,  5.20616260e-03,\n",
              "        -9.19136006e-02,  5.77635834e-01,  2.34606128e-02,\n",
              "         1.90926884e-02, -2.36216911e-01,  2.82221024e-01,\n",
              "        -8.88343634e-02, -8.44165774e-02, -2.30316589e-01,\n",
              "         3.27546479e-01, -1.36397821e-01],\n",
              "       [ 7.62425469e-03, -7.16195849e-03,  1.20981700e-01,\n",
              "         3.76755370e-03,  5.20616260e-03,  1.00000000e+00,\n",
              "         9.23587397e-02, -1.27484319e-02,  3.06513241e-03,\n",
              "         1.20011722e-03,  3.46738112e-02, -3.14033404e-02,\n",
              "        -1.32746256e-02,  2.23147530e-02, -1.11115741e-02,\n",
              "         7.51785790e-03, -4.33263857e-03],\n",
              "       [-1.07437445e-01, -1.30814438e-01,  7.37717422e-01,\n",
              "        -7.45265146e-02, -9.19136006e-02,  9.23587397e-02,\n",
              "         1.00000000e+00, -1.44221795e-01, -5.53843929e-04,\n",
              "         5.02931788e-03,  1.47497097e-01, -1.37754210e-01,\n",
              "        -4.55227478e-02,  1.53638929e-01,  3.07529156e-02,\n",
              "        -1.24335521e-02, -5.55403382e-02],\n",
              "       [ 5.98072790e-01,  5.63750247e-01, -1.03916850e-01,\n",
              "         4.83731813e-01,  5.77635834e-01, -1.27484319e-02,\n",
              "        -1.44221795e-01,  1.00000000e+00,  1.97170581e-02,\n",
              "         1.46557718e-02, -4.82170368e-01,  4.59136000e-01,\n",
              "         1.25671636e-01, -7.52556784e-02, -1.58553255e-01,\n",
              "         1.92466079e-01, -5.19618547e-02],\n",
              "       [ 2.00298945e-02,  1.84819307e-02,  1.37973623e-02,\n",
              "         1.80124560e-02,  2.34606128e-02,  3.06513241e-03,\n",
              "        -5.53843929e-04,  1.97170581e-02,  1.00000000e+00,\n",
              "         2.26212288e-01,  9.10511948e-03, -8.62354544e-03,\n",
              "        -2.49547974e-03, -3.55287358e-03, -1.34528170e-02,\n",
              "        -1.05527328e-03,  1.44735011e-02],\n",
              "       [ 1.51023977e-02,  1.36391535e-02,  6.68849447e-03,\n",
              "         9.72140387e-03,  1.90926884e-02,  1.20011722e-03,\n",
              "         5.02931788e-03,  1.46557718e-02,  2.26212288e-01,\n",
              "         1.00000000e+00, -1.50172361e-03,  2.29128332e-03,\n",
              "        -1.86978516e-03, -2.43773221e-03, -8.40029867e-03,\n",
              "        -4.27577570e-04,  8.83529747e-03],\n",
              "       [-2.75457964e-01, -2.58339018e-01,  1.53947015e-01,\n",
              "        -2.52745585e-01, -2.36216911e-01,  3.46738112e-02,\n",
              "         1.47497097e-01, -4.82170368e-01,  9.10511948e-03,\n",
              "        -1.50172361e-03,  1.00000000e+00, -9.32270330e-01,\n",
              "        -3.13032028e-01,  3.40733867e-02,  1.03123851e-02,\n",
              "        -1.76033305e-01,  1.80288204e-01],\n",
              "       [ 3.43042378e-01,  3.49962189e-01, -1.42089598e-01,\n",
              "         2.93325601e-01,  2.82221024e-01, -3.14033404e-02,\n",
              "        -1.37754210e-01,  4.59136000e-01, -8.62354544e-03,\n",
              "         2.29128332e-03, -9.32270330e-01,  1.00000000e+00,\n",
              "        -5.17506766e-02, -4.18230764e-02, -7.96096280e-03,\n",
              "         1.78639806e-01, -1.83298315e-01],\n",
              "       [-1.40183420e-01, -2.05607705e-01, -5.19462291e-02,\n",
              "        -7.23593595e-02, -8.88343634e-02, -1.32746256e-02,\n",
              "        -4.55227478e-02,  1.25671636e-01, -2.49547974e-03,\n",
              "        -1.86978516e-03, -3.13032028e-01, -5.17506766e-02,\n",
              "         1.00000000e+00,  1.57380272e-02, -7.56767884e-03,\n",
              "         1.69602975e-02, -1.64760386e-02],\n",
              "       [-9.73678190e-02, -1.23732152e-01,  1.26044467e-01,\n",
              "        -8.64368160e-02, -8.44165774e-02,  2.23147530e-02,\n",
              "         1.53638929e-01, -7.52556784e-02, -3.55287358e-03,\n",
              "        -2.43773221e-03,  3.40733867e-02, -4.18230764e-02,\n",
              "         1.57380272e-02,  1.00000000e+00, -6.18350359e-02,\n",
              "        -1.23834280e-01, -7.30144333e-02],\n",
              "       [-1.62497441e-01, -1.11711865e-01, -1.69262936e-02,\n",
              "        -1.09956571e-01, -2.30316589e-01, -1.11115741e-02,\n",
              "         3.07529156e-02, -1.58553255e-01, -1.34528170e-02,\n",
              "        -8.40029867e-03,  1.03123851e-02, -7.96096280e-03,\n",
              "        -7.56767884e-03, -6.18350359e-02,  1.00000000e+00,\n",
              "        -5.22996452e-01, -3.08366065e-01],\n",
              "       [ 2.42345124e-01,  1.63821698e-01, -3.17495417e-02,\n",
              "         2.67989967e-01,  3.27546479e-01,  7.51785790e-03,\n",
              "        -1.24335521e-02,  1.92466079e-01, -1.05527328e-03,\n",
              "        -4.27577570e-04, -1.76033305e-01,  1.78639806e-01,\n",
              "         1.69602975e-02, -1.23834280e-01, -5.22996452e-01,\n",
              "         1.00000000e+00, -6.17551022e-01],\n",
              "       [-9.87517576e-02, -4.94325200e-02,  1.74019374e-02,\n",
              "        -1.78806840e-01, -1.36397821e-01, -4.33263857e-03,\n",
              "        -5.55403382e-02, -5.19618547e-02,  1.44735011e-02,\n",
              "         8.83529747e-03,  1.80288204e-01, -1.83298315e-01,\n",
              "        -1.64760386e-02, -7.30144333e-02, -3.08366065e-01,\n",
              "        -6.17551022e-01,  1.00000000e+00]])"
            ]
          },
          "metadata": {},
          "execution_count": 40
        }
      ]
    },
    {
      "cell_type": "markdown",
      "source": [
        "Criação de um **DataFrame do Pandas** passando essa correlação.toArray()"
      ],
      "metadata": {
        "id": "JMG54SLQNPYa"
      }
    },
    {
      "cell_type": "code",
      "source": [
        "dataframe_correlacao = pd.DataFrame(correlacao.toArray(), columns=X, index=X)\n"
      ],
      "metadata": {
        "id": "haHei26Vvlvx"
      },
      "execution_count": 41,
      "outputs": []
    },
    {
      "cell_type": "code",
      "source": [
        "# Verificação da Matriz de Correlação\n",
        "dataframe_correlacao"
      ],
      "metadata": {
        "id": "PHOKXat0Hw8N",
        "colab": {
          "base_uri": "https://localhost:8080/",
          "height": 620
        },
        "outputId": "e4c35e73-0689-4f4e-f1ab-db112502897c"
      },
      "execution_count": 42,
      "outputs": [
        {
          "output_type": "execute_result",
          "data": {
            "text/plain": [
              "                 bathrooms  bedrooms    floors  parkingSpaces    suites  \\\n",
              "bathrooms         1.000000  0.665911 -0.044591       0.487590  0.752928   \n",
              "bedrooms          0.665911  1.000000 -0.082184       0.467161  0.601199   \n",
              "floors           -0.044591 -0.082184  1.000000      -0.048486 -0.048106   \n",
              "parkingSpaces     0.487590  0.467161 -0.048486       1.000000  0.484988   \n",
              "suites            0.752928  0.601199 -0.048106       0.484988  1.000000   \n",
              "unitFloor         0.007624 -0.007162  0.120982       0.003768  0.005206   \n",
              "unitsOnTheFloor  -0.107437 -0.130814  0.737717      -0.074527 -0.091914   \n",
              "usableAreas       0.598073  0.563750 -0.103917       0.483732  0.577636   \n",
              "condo             0.020030  0.018482  0.013797       0.018012  0.023461   \n",
              "iptu              0.015102  0.013639  0.006688       0.009721  0.019093   \n",
              "Apartamento      -0.275458 -0.258339  0.153947      -0.252746 -0.236217   \n",
              "Casa              0.343042  0.349962 -0.142090       0.293326  0.282221   \n",
              "Outros           -0.140183 -0.205608 -0.051946      -0.072359 -0.088834   \n",
              "Zona Central     -0.097368 -0.123732  0.126044      -0.086437 -0.084417   \n",
              "Zona Norte       -0.162497 -0.111712 -0.016926      -0.109957 -0.230317   \n",
              "Zona Oeste        0.242345  0.163822 -0.031750       0.267990  0.327546   \n",
              "Zona Sul         -0.098752 -0.049433  0.017402      -0.178807 -0.136398   \n",
              "\n",
              "                 unitFloor  unitsOnTheFloor  usableAreas     condo      iptu  \\\n",
              "bathrooms         0.007624        -0.107437     0.598073  0.020030  0.015102   \n",
              "bedrooms         -0.007162        -0.130814     0.563750  0.018482  0.013639   \n",
              "floors            0.120982         0.737717    -0.103917  0.013797  0.006688   \n",
              "parkingSpaces     0.003768        -0.074527     0.483732  0.018012  0.009721   \n",
              "suites            0.005206        -0.091914     0.577636  0.023461  0.019093   \n",
              "unitFloor         1.000000         0.092359    -0.012748  0.003065  0.001200   \n",
              "unitsOnTheFloor   0.092359         1.000000    -0.144222 -0.000554  0.005029   \n",
              "usableAreas      -0.012748        -0.144222     1.000000  0.019717  0.014656   \n",
              "condo             0.003065        -0.000554     0.019717  1.000000  0.226212   \n",
              "iptu              0.001200         0.005029     0.014656  0.226212  1.000000   \n",
              "Apartamento       0.034674         0.147497    -0.482170  0.009105 -0.001502   \n",
              "Casa             -0.031403        -0.137754     0.459136 -0.008624  0.002291   \n",
              "Outros           -0.013275        -0.045523     0.125672 -0.002495 -0.001870   \n",
              "Zona Central      0.022315         0.153639    -0.075256 -0.003553 -0.002438   \n",
              "Zona Norte       -0.011112         0.030753    -0.158553 -0.013453 -0.008400   \n",
              "Zona Oeste        0.007518        -0.012434     0.192466 -0.001055 -0.000428   \n",
              "Zona Sul         -0.004333        -0.055540    -0.051962  0.014474  0.008835   \n",
              "\n",
              "                 Apartamento      Casa    Outros  Zona Central  Zona Norte  \\\n",
              "bathrooms          -0.275458  0.343042 -0.140183     -0.097368   -0.162497   \n",
              "bedrooms           -0.258339  0.349962 -0.205608     -0.123732   -0.111712   \n",
              "floors              0.153947 -0.142090 -0.051946      0.126044   -0.016926   \n",
              "parkingSpaces      -0.252746  0.293326 -0.072359     -0.086437   -0.109957   \n",
              "suites             -0.236217  0.282221 -0.088834     -0.084417   -0.230317   \n",
              "unitFloor           0.034674 -0.031403 -0.013275      0.022315   -0.011112   \n",
              "unitsOnTheFloor     0.147497 -0.137754 -0.045523      0.153639    0.030753   \n",
              "usableAreas        -0.482170  0.459136  0.125672     -0.075256   -0.158553   \n",
              "condo               0.009105 -0.008624 -0.002495     -0.003553   -0.013453   \n",
              "iptu               -0.001502  0.002291 -0.001870     -0.002438   -0.008400   \n",
              "Apartamento         1.000000 -0.932270 -0.313032      0.034073    0.010312   \n",
              "Casa               -0.932270  1.000000 -0.051751     -0.041823   -0.007961   \n",
              "Outros             -0.313032 -0.051751  1.000000      0.015738   -0.007568   \n",
              "Zona Central        0.034073 -0.041823  0.015738      1.000000   -0.061835   \n",
              "Zona Norte          0.010312 -0.007961 -0.007568     -0.061835    1.000000   \n",
              "Zona Oeste         -0.176033  0.178640  0.016960     -0.123834   -0.522996   \n",
              "Zona Sul            0.180288 -0.183298 -0.016476     -0.073014   -0.308366   \n",
              "\n",
              "                 Zona Oeste  Zona Sul  \n",
              "bathrooms          0.242345 -0.098752  \n",
              "bedrooms           0.163822 -0.049433  \n",
              "floors            -0.031750  0.017402  \n",
              "parkingSpaces      0.267990 -0.178807  \n",
              "suites             0.327546 -0.136398  \n",
              "unitFloor          0.007518 -0.004333  \n",
              "unitsOnTheFloor   -0.012434 -0.055540  \n",
              "usableAreas        0.192466 -0.051962  \n",
              "condo             -0.001055  0.014474  \n",
              "iptu              -0.000428  0.008835  \n",
              "Apartamento       -0.176033  0.180288  \n",
              "Casa               0.178640 -0.183298  \n",
              "Outros             0.016960 -0.016476  \n",
              "Zona Central      -0.123834 -0.073014  \n",
              "Zona Norte        -0.522996 -0.308366  \n",
              "Zona Oeste         1.000000 -0.617551  \n",
              "Zona Sul          -0.617551  1.000000  "
            ],
            "text/html": [
              "\n",
              "  <div id=\"df-3be09b83-3c8b-46b5-8f39-8b0dafb27030\" class=\"colab-df-container\">\n",
              "    <div>\n",
              "<style scoped>\n",
              "    .dataframe tbody tr th:only-of-type {\n",
              "        vertical-align: middle;\n",
              "    }\n",
              "\n",
              "    .dataframe tbody tr th {\n",
              "        vertical-align: top;\n",
              "    }\n",
              "\n",
              "    .dataframe thead th {\n",
              "        text-align: right;\n",
              "    }\n",
              "</style>\n",
              "<table border=\"1\" class=\"dataframe\">\n",
              "  <thead>\n",
              "    <tr style=\"text-align: right;\">\n",
              "      <th></th>\n",
              "      <th>bathrooms</th>\n",
              "      <th>bedrooms</th>\n",
              "      <th>floors</th>\n",
              "      <th>parkingSpaces</th>\n",
              "      <th>suites</th>\n",
              "      <th>unitFloor</th>\n",
              "      <th>unitsOnTheFloor</th>\n",
              "      <th>usableAreas</th>\n",
              "      <th>condo</th>\n",
              "      <th>iptu</th>\n",
              "      <th>Apartamento</th>\n",
              "      <th>Casa</th>\n",
              "      <th>Outros</th>\n",
              "      <th>Zona Central</th>\n",
              "      <th>Zona Norte</th>\n",
              "      <th>Zona Oeste</th>\n",
              "      <th>Zona Sul</th>\n",
              "    </tr>\n",
              "  </thead>\n",
              "  <tbody>\n",
              "    <tr>\n",
              "      <th>bathrooms</th>\n",
              "      <td>1.000000</td>\n",
              "      <td>0.665911</td>\n",
              "      <td>-0.044591</td>\n",
              "      <td>0.487590</td>\n",
              "      <td>0.752928</td>\n",
              "      <td>0.007624</td>\n",
              "      <td>-0.107437</td>\n",
              "      <td>0.598073</td>\n",
              "      <td>0.020030</td>\n",
              "      <td>0.015102</td>\n",
              "      <td>-0.275458</td>\n",
              "      <td>0.343042</td>\n",
              "      <td>-0.140183</td>\n",
              "      <td>-0.097368</td>\n",
              "      <td>-0.162497</td>\n",
              "      <td>0.242345</td>\n",
              "      <td>-0.098752</td>\n",
              "    </tr>\n",
              "    <tr>\n",
              "      <th>bedrooms</th>\n",
              "      <td>0.665911</td>\n",
              "      <td>1.000000</td>\n",
              "      <td>-0.082184</td>\n",
              "      <td>0.467161</td>\n",
              "      <td>0.601199</td>\n",
              "      <td>-0.007162</td>\n",
              "      <td>-0.130814</td>\n",
              "      <td>0.563750</td>\n",
              "      <td>0.018482</td>\n",
              "      <td>0.013639</td>\n",
              "      <td>-0.258339</td>\n",
              "      <td>0.349962</td>\n",
              "      <td>-0.205608</td>\n",
              "      <td>-0.123732</td>\n",
              "      <td>-0.111712</td>\n",
              "      <td>0.163822</td>\n",
              "      <td>-0.049433</td>\n",
              "    </tr>\n",
              "    <tr>\n",
              "      <th>floors</th>\n",
              "      <td>-0.044591</td>\n",
              "      <td>-0.082184</td>\n",
              "      <td>1.000000</td>\n",
              "      <td>-0.048486</td>\n",
              "      <td>-0.048106</td>\n",
              "      <td>0.120982</td>\n",
              "      <td>0.737717</td>\n",
              "      <td>-0.103917</td>\n",
              "      <td>0.013797</td>\n",
              "      <td>0.006688</td>\n",
              "      <td>0.153947</td>\n",
              "      <td>-0.142090</td>\n",
              "      <td>-0.051946</td>\n",
              "      <td>0.126044</td>\n",
              "      <td>-0.016926</td>\n",
              "      <td>-0.031750</td>\n",
              "      <td>0.017402</td>\n",
              "    </tr>\n",
              "    <tr>\n",
              "      <th>parkingSpaces</th>\n",
              "      <td>0.487590</td>\n",
              "      <td>0.467161</td>\n",
              "      <td>-0.048486</td>\n",
              "      <td>1.000000</td>\n",
              "      <td>0.484988</td>\n",
              "      <td>0.003768</td>\n",
              "      <td>-0.074527</td>\n",
              "      <td>0.483732</td>\n",
              "      <td>0.018012</td>\n",
              "      <td>0.009721</td>\n",
              "      <td>-0.252746</td>\n",
              "      <td>0.293326</td>\n",
              "      <td>-0.072359</td>\n",
              "      <td>-0.086437</td>\n",
              "      <td>-0.109957</td>\n",
              "      <td>0.267990</td>\n",
              "      <td>-0.178807</td>\n",
              "    </tr>\n",
              "    <tr>\n",
              "      <th>suites</th>\n",
              "      <td>0.752928</td>\n",
              "      <td>0.601199</td>\n",
              "      <td>-0.048106</td>\n",
              "      <td>0.484988</td>\n",
              "      <td>1.000000</td>\n",
              "      <td>0.005206</td>\n",
              "      <td>-0.091914</td>\n",
              "      <td>0.577636</td>\n",
              "      <td>0.023461</td>\n",
              "      <td>0.019093</td>\n",
              "      <td>-0.236217</td>\n",
              "      <td>0.282221</td>\n",
              "      <td>-0.088834</td>\n",
              "      <td>-0.084417</td>\n",
              "      <td>-0.230317</td>\n",
              "      <td>0.327546</td>\n",
              "      <td>-0.136398</td>\n",
              "    </tr>\n",
              "    <tr>\n",
              "      <th>unitFloor</th>\n",
              "      <td>0.007624</td>\n",
              "      <td>-0.007162</td>\n",
              "      <td>0.120982</td>\n",
              "      <td>0.003768</td>\n",
              "      <td>0.005206</td>\n",
              "      <td>1.000000</td>\n",
              "      <td>0.092359</td>\n",
              "      <td>-0.012748</td>\n",
              "      <td>0.003065</td>\n",
              "      <td>0.001200</td>\n",
              "      <td>0.034674</td>\n",
              "      <td>-0.031403</td>\n",
              "      <td>-0.013275</td>\n",
              "      <td>0.022315</td>\n",
              "      <td>-0.011112</td>\n",
              "      <td>0.007518</td>\n",
              "      <td>-0.004333</td>\n",
              "    </tr>\n",
              "    <tr>\n",
              "      <th>unitsOnTheFloor</th>\n",
              "      <td>-0.107437</td>\n",
              "      <td>-0.130814</td>\n",
              "      <td>0.737717</td>\n",
              "      <td>-0.074527</td>\n",
              "      <td>-0.091914</td>\n",
              "      <td>0.092359</td>\n",
              "      <td>1.000000</td>\n",
              "      <td>-0.144222</td>\n",
              "      <td>-0.000554</td>\n",
              "      <td>0.005029</td>\n",
              "      <td>0.147497</td>\n",
              "      <td>-0.137754</td>\n",
              "      <td>-0.045523</td>\n",
              "      <td>0.153639</td>\n",
              "      <td>0.030753</td>\n",
              "      <td>-0.012434</td>\n",
              "      <td>-0.055540</td>\n",
              "    </tr>\n",
              "    <tr>\n",
              "      <th>usableAreas</th>\n",
              "      <td>0.598073</td>\n",
              "      <td>0.563750</td>\n",
              "      <td>-0.103917</td>\n",
              "      <td>0.483732</td>\n",
              "      <td>0.577636</td>\n",
              "      <td>-0.012748</td>\n",
              "      <td>-0.144222</td>\n",
              "      <td>1.000000</td>\n",
              "      <td>0.019717</td>\n",
              "      <td>0.014656</td>\n",
              "      <td>-0.482170</td>\n",
              "      <td>0.459136</td>\n",
              "      <td>0.125672</td>\n",
              "      <td>-0.075256</td>\n",
              "      <td>-0.158553</td>\n",
              "      <td>0.192466</td>\n",
              "      <td>-0.051962</td>\n",
              "    </tr>\n",
              "    <tr>\n",
              "      <th>condo</th>\n",
              "      <td>0.020030</td>\n",
              "      <td>0.018482</td>\n",
              "      <td>0.013797</td>\n",
              "      <td>0.018012</td>\n",
              "      <td>0.023461</td>\n",
              "      <td>0.003065</td>\n",
              "      <td>-0.000554</td>\n",
              "      <td>0.019717</td>\n",
              "      <td>1.000000</td>\n",
              "      <td>0.226212</td>\n",
              "      <td>0.009105</td>\n",
              "      <td>-0.008624</td>\n",
              "      <td>-0.002495</td>\n",
              "      <td>-0.003553</td>\n",
              "      <td>-0.013453</td>\n",
              "      <td>-0.001055</td>\n",
              "      <td>0.014474</td>\n",
              "    </tr>\n",
              "    <tr>\n",
              "      <th>iptu</th>\n",
              "      <td>0.015102</td>\n",
              "      <td>0.013639</td>\n",
              "      <td>0.006688</td>\n",
              "      <td>0.009721</td>\n",
              "      <td>0.019093</td>\n",
              "      <td>0.001200</td>\n",
              "      <td>0.005029</td>\n",
              "      <td>0.014656</td>\n",
              "      <td>0.226212</td>\n",
              "      <td>1.000000</td>\n",
              "      <td>-0.001502</td>\n",
              "      <td>0.002291</td>\n",
              "      <td>-0.001870</td>\n",
              "      <td>-0.002438</td>\n",
              "      <td>-0.008400</td>\n",
              "      <td>-0.000428</td>\n",
              "      <td>0.008835</td>\n",
              "    </tr>\n",
              "    <tr>\n",
              "      <th>Apartamento</th>\n",
              "      <td>-0.275458</td>\n",
              "      <td>-0.258339</td>\n",
              "      <td>0.153947</td>\n",
              "      <td>-0.252746</td>\n",
              "      <td>-0.236217</td>\n",
              "      <td>0.034674</td>\n",
              "      <td>0.147497</td>\n",
              "      <td>-0.482170</td>\n",
              "      <td>0.009105</td>\n",
              "      <td>-0.001502</td>\n",
              "      <td>1.000000</td>\n",
              "      <td>-0.932270</td>\n",
              "      <td>-0.313032</td>\n",
              "      <td>0.034073</td>\n",
              "      <td>0.010312</td>\n",
              "      <td>-0.176033</td>\n",
              "      <td>0.180288</td>\n",
              "    </tr>\n",
              "    <tr>\n",
              "      <th>Casa</th>\n",
              "      <td>0.343042</td>\n",
              "      <td>0.349962</td>\n",
              "      <td>-0.142090</td>\n",
              "      <td>0.293326</td>\n",
              "      <td>0.282221</td>\n",
              "      <td>-0.031403</td>\n",
              "      <td>-0.137754</td>\n",
              "      <td>0.459136</td>\n",
              "      <td>-0.008624</td>\n",
              "      <td>0.002291</td>\n",
              "      <td>-0.932270</td>\n",
              "      <td>1.000000</td>\n",
              "      <td>-0.051751</td>\n",
              "      <td>-0.041823</td>\n",
              "      <td>-0.007961</td>\n",
              "      <td>0.178640</td>\n",
              "      <td>-0.183298</td>\n",
              "    </tr>\n",
              "    <tr>\n",
              "      <th>Outros</th>\n",
              "      <td>-0.140183</td>\n",
              "      <td>-0.205608</td>\n",
              "      <td>-0.051946</td>\n",
              "      <td>-0.072359</td>\n",
              "      <td>-0.088834</td>\n",
              "      <td>-0.013275</td>\n",
              "      <td>-0.045523</td>\n",
              "      <td>0.125672</td>\n",
              "      <td>-0.002495</td>\n",
              "      <td>-0.001870</td>\n",
              "      <td>-0.313032</td>\n",
              "      <td>-0.051751</td>\n",
              "      <td>1.000000</td>\n",
              "      <td>0.015738</td>\n",
              "      <td>-0.007568</td>\n",
              "      <td>0.016960</td>\n",
              "      <td>-0.016476</td>\n",
              "    </tr>\n",
              "    <tr>\n",
              "      <th>Zona Central</th>\n",
              "      <td>-0.097368</td>\n",
              "      <td>-0.123732</td>\n",
              "      <td>0.126044</td>\n",
              "      <td>-0.086437</td>\n",
              "      <td>-0.084417</td>\n",
              "      <td>0.022315</td>\n",
              "      <td>0.153639</td>\n",
              "      <td>-0.075256</td>\n",
              "      <td>-0.003553</td>\n",
              "      <td>-0.002438</td>\n",
              "      <td>0.034073</td>\n",
              "      <td>-0.041823</td>\n",
              "      <td>0.015738</td>\n",
              "      <td>1.000000</td>\n",
              "      <td>-0.061835</td>\n",
              "      <td>-0.123834</td>\n",
              "      <td>-0.073014</td>\n",
              "    </tr>\n",
              "    <tr>\n",
              "      <th>Zona Norte</th>\n",
              "      <td>-0.162497</td>\n",
              "      <td>-0.111712</td>\n",
              "      <td>-0.016926</td>\n",
              "      <td>-0.109957</td>\n",
              "      <td>-0.230317</td>\n",
              "      <td>-0.011112</td>\n",
              "      <td>0.030753</td>\n",
              "      <td>-0.158553</td>\n",
              "      <td>-0.013453</td>\n",
              "      <td>-0.008400</td>\n",
              "      <td>0.010312</td>\n",
              "      <td>-0.007961</td>\n",
              "      <td>-0.007568</td>\n",
              "      <td>-0.061835</td>\n",
              "      <td>1.000000</td>\n",
              "      <td>-0.522996</td>\n",
              "      <td>-0.308366</td>\n",
              "    </tr>\n",
              "    <tr>\n",
              "      <th>Zona Oeste</th>\n",
              "      <td>0.242345</td>\n",
              "      <td>0.163822</td>\n",
              "      <td>-0.031750</td>\n",
              "      <td>0.267990</td>\n",
              "      <td>0.327546</td>\n",
              "      <td>0.007518</td>\n",
              "      <td>-0.012434</td>\n",
              "      <td>0.192466</td>\n",
              "      <td>-0.001055</td>\n",
              "      <td>-0.000428</td>\n",
              "      <td>-0.176033</td>\n",
              "      <td>0.178640</td>\n",
              "      <td>0.016960</td>\n",
              "      <td>-0.123834</td>\n",
              "      <td>-0.522996</td>\n",
              "      <td>1.000000</td>\n",
              "      <td>-0.617551</td>\n",
              "    </tr>\n",
              "    <tr>\n",
              "      <th>Zona Sul</th>\n",
              "      <td>-0.098752</td>\n",
              "      <td>-0.049433</td>\n",
              "      <td>0.017402</td>\n",
              "      <td>-0.178807</td>\n",
              "      <td>-0.136398</td>\n",
              "      <td>-0.004333</td>\n",
              "      <td>-0.055540</td>\n",
              "      <td>-0.051962</td>\n",
              "      <td>0.014474</td>\n",
              "      <td>0.008835</td>\n",
              "      <td>0.180288</td>\n",
              "      <td>-0.183298</td>\n",
              "      <td>-0.016476</td>\n",
              "      <td>-0.073014</td>\n",
              "      <td>-0.308366</td>\n",
              "      <td>-0.617551</td>\n",
              "      <td>1.000000</td>\n",
              "    </tr>\n",
              "  </tbody>\n",
              "</table>\n",
              "</div>\n",
              "    <div class=\"colab-df-buttons\">\n",
              "\n",
              "  <div class=\"colab-df-container\">\n",
              "    <button class=\"colab-df-convert\" onclick=\"convertToInteractive('df-3be09b83-3c8b-46b5-8f39-8b0dafb27030')\"\n",
              "            title=\"Convert this dataframe to an interactive table.\"\n",
              "            style=\"display:none;\">\n",
              "\n",
              "  <svg xmlns=\"http://www.w3.org/2000/svg\" height=\"24px\" viewBox=\"0 -960 960 960\">\n",
              "    <path d=\"M120-120v-720h720v720H120Zm60-500h600v-160H180v160Zm220 220h160v-160H400v160Zm0 220h160v-160H400v160ZM180-400h160v-160H180v160Zm440 0h160v-160H620v160ZM180-180h160v-160H180v160Zm440 0h160v-160H620v160Z\"/>\n",
              "  </svg>\n",
              "    </button>\n",
              "\n",
              "  <style>\n",
              "    .colab-df-container {\n",
              "      display:flex;\n",
              "      gap: 12px;\n",
              "    }\n",
              "\n",
              "    .colab-df-convert {\n",
              "      background-color: #E8F0FE;\n",
              "      border: none;\n",
              "      border-radius: 50%;\n",
              "      cursor: pointer;\n",
              "      display: none;\n",
              "      fill: #1967D2;\n",
              "      height: 32px;\n",
              "      padding: 0 0 0 0;\n",
              "      width: 32px;\n",
              "    }\n",
              "\n",
              "    .colab-df-convert:hover {\n",
              "      background-color: #E2EBFA;\n",
              "      box-shadow: 0px 1px 2px rgba(60, 64, 67, 0.3), 0px 1px 3px 1px rgba(60, 64, 67, 0.15);\n",
              "      fill: #174EA6;\n",
              "    }\n",
              "\n",
              "    .colab-df-buttons div {\n",
              "      margin-bottom: 4px;\n",
              "    }\n",
              "\n",
              "    [theme=dark] .colab-df-convert {\n",
              "      background-color: #3B4455;\n",
              "      fill: #D2E3FC;\n",
              "    }\n",
              "\n",
              "    [theme=dark] .colab-df-convert:hover {\n",
              "      background-color: #434B5C;\n",
              "      box-shadow: 0px 1px 3px 1px rgba(0, 0, 0, 0.15);\n",
              "      filter: drop-shadow(0px 1px 2px rgba(0, 0, 0, 0.3));\n",
              "      fill: #FFFFFF;\n",
              "    }\n",
              "  </style>\n",
              "\n",
              "    <script>\n",
              "      const buttonEl =\n",
              "        document.querySelector('#df-3be09b83-3c8b-46b5-8f39-8b0dafb27030 button.colab-df-convert');\n",
              "      buttonEl.style.display =\n",
              "        google.colab.kernel.accessAllowed ? 'block' : 'none';\n",
              "\n",
              "      async function convertToInteractive(key) {\n",
              "        const element = document.querySelector('#df-3be09b83-3c8b-46b5-8f39-8b0dafb27030');\n",
              "        const dataTable =\n",
              "          await google.colab.kernel.invokeFunction('convertToInteractive',\n",
              "                                                    [key], {});\n",
              "        if (!dataTable) return;\n",
              "\n",
              "        const docLinkHtml = 'Like what you see? Visit the ' +\n",
              "          '<a target=\"_blank\" href=https://colab.research.google.com/notebooks/data_table.ipynb>data table notebook</a>'\n",
              "          + ' to learn more about interactive tables.';\n",
              "        element.innerHTML = '';\n",
              "        dataTable['output_type'] = 'display_data';\n",
              "        await google.colab.output.renderOutput(dataTable, element);\n",
              "        const docLink = document.createElement('div');\n",
              "        docLink.innerHTML = docLinkHtml;\n",
              "        element.appendChild(docLink);\n",
              "      }\n",
              "    </script>\n",
              "  </div>\n",
              "\n",
              "\n",
              "    <div id=\"df-f4883415-f066-4225-b5e7-6c327bbe07cf\">\n",
              "      <button class=\"colab-df-quickchart\" onclick=\"quickchart('df-f4883415-f066-4225-b5e7-6c327bbe07cf')\"\n",
              "                title=\"Suggest charts\"\n",
              "                style=\"display:none;\">\n",
              "\n",
              "<svg xmlns=\"http://www.w3.org/2000/svg\" height=\"24px\"viewBox=\"0 0 24 24\"\n",
              "     width=\"24px\">\n",
              "    <g>\n",
              "        <path d=\"M19 3H5c-1.1 0-2 .9-2 2v14c0 1.1.9 2 2 2h14c1.1 0 2-.9 2-2V5c0-1.1-.9-2-2-2zM9 17H7v-7h2v7zm4 0h-2V7h2v10zm4 0h-2v-4h2v4z\"/>\n",
              "    </g>\n",
              "</svg>\n",
              "      </button>\n",
              "\n",
              "<style>\n",
              "  .colab-df-quickchart {\n",
              "      --bg-color: #E8F0FE;\n",
              "      --fill-color: #1967D2;\n",
              "      --hover-bg-color: #E2EBFA;\n",
              "      --hover-fill-color: #174EA6;\n",
              "      --disabled-fill-color: #AAA;\n",
              "      --disabled-bg-color: #DDD;\n",
              "  }\n",
              "\n",
              "  [theme=dark] .colab-df-quickchart {\n",
              "      --bg-color: #3B4455;\n",
              "      --fill-color: #D2E3FC;\n",
              "      --hover-bg-color: #434B5C;\n",
              "      --hover-fill-color: #FFFFFF;\n",
              "      --disabled-bg-color: #3B4455;\n",
              "      --disabled-fill-color: #666;\n",
              "  }\n",
              "\n",
              "  .colab-df-quickchart {\n",
              "    background-color: var(--bg-color);\n",
              "    border: none;\n",
              "    border-radius: 50%;\n",
              "    cursor: pointer;\n",
              "    display: none;\n",
              "    fill: var(--fill-color);\n",
              "    height: 32px;\n",
              "    padding: 0;\n",
              "    width: 32px;\n",
              "  }\n",
              "\n",
              "  .colab-df-quickchart:hover {\n",
              "    background-color: var(--hover-bg-color);\n",
              "    box-shadow: 0 1px 2px rgba(60, 64, 67, 0.3), 0 1px 3px 1px rgba(60, 64, 67, 0.15);\n",
              "    fill: var(--button-hover-fill-color);\n",
              "  }\n",
              "\n",
              "  .colab-df-quickchart-complete:disabled,\n",
              "  .colab-df-quickchart-complete:disabled:hover {\n",
              "    background-color: var(--disabled-bg-color);\n",
              "    fill: var(--disabled-fill-color);\n",
              "    box-shadow: none;\n",
              "  }\n",
              "\n",
              "  .colab-df-spinner {\n",
              "    border: 2px solid var(--fill-color);\n",
              "    border-color: transparent;\n",
              "    border-bottom-color: var(--fill-color);\n",
              "    animation:\n",
              "      spin 1s steps(1) infinite;\n",
              "  }\n",
              "\n",
              "  @keyframes spin {\n",
              "    0% {\n",
              "      border-color: transparent;\n",
              "      border-bottom-color: var(--fill-color);\n",
              "      border-left-color: var(--fill-color);\n",
              "    }\n",
              "    20% {\n",
              "      border-color: transparent;\n",
              "      border-left-color: var(--fill-color);\n",
              "      border-top-color: var(--fill-color);\n",
              "    }\n",
              "    30% {\n",
              "      border-color: transparent;\n",
              "      border-left-color: var(--fill-color);\n",
              "      border-top-color: var(--fill-color);\n",
              "      border-right-color: var(--fill-color);\n",
              "    }\n",
              "    40% {\n",
              "      border-color: transparent;\n",
              "      border-right-color: var(--fill-color);\n",
              "      border-top-color: var(--fill-color);\n",
              "    }\n",
              "    60% {\n",
              "      border-color: transparent;\n",
              "      border-right-color: var(--fill-color);\n",
              "    }\n",
              "    80% {\n",
              "      border-color: transparent;\n",
              "      border-right-color: var(--fill-color);\n",
              "      border-bottom-color: var(--fill-color);\n",
              "    }\n",
              "    90% {\n",
              "      border-color: transparent;\n",
              "      border-bottom-color: var(--fill-color);\n",
              "    }\n",
              "  }\n",
              "</style>\n",
              "\n",
              "      <script>\n",
              "        async function quickchart(key) {\n",
              "          const quickchartButtonEl =\n",
              "            document.querySelector('#' + key + ' button');\n",
              "          quickchartButtonEl.disabled = true;  // To prevent multiple clicks.\n",
              "          quickchartButtonEl.classList.add('colab-df-spinner');\n",
              "          try {\n",
              "            const charts = await google.colab.kernel.invokeFunction(\n",
              "                'suggestCharts', [key], {});\n",
              "          } catch (error) {\n",
              "            console.error('Error during call to suggestCharts:', error);\n",
              "          }\n",
              "          quickchartButtonEl.classList.remove('colab-df-spinner');\n",
              "          quickchartButtonEl.classList.add('colab-df-quickchart-complete');\n",
              "        }\n",
              "        (() => {\n",
              "          let quickchartButtonEl =\n",
              "            document.querySelector('#df-f4883415-f066-4225-b5e7-6c327bbe07cf button');\n",
              "          quickchartButtonEl.style.display =\n",
              "            google.colab.kernel.accessAllowed ? 'block' : 'none';\n",
              "        })();\n",
              "      </script>\n",
              "    </div>\n",
              "\n",
              "  <div id=\"id_dec5a530-8dee-4125-8045-30c8f54d0e0a\">\n",
              "    <style>\n",
              "      .colab-df-generate {\n",
              "        background-color: #E8F0FE;\n",
              "        border: none;\n",
              "        border-radius: 50%;\n",
              "        cursor: pointer;\n",
              "        display: none;\n",
              "        fill: #1967D2;\n",
              "        height: 32px;\n",
              "        padding: 0 0 0 0;\n",
              "        width: 32px;\n",
              "      }\n",
              "\n",
              "      .colab-df-generate:hover {\n",
              "        background-color: #E2EBFA;\n",
              "        box-shadow: 0px 1px 2px rgba(60, 64, 67, 0.3), 0px 1px 3px 1px rgba(60, 64, 67, 0.15);\n",
              "        fill: #174EA6;\n",
              "      }\n",
              "\n",
              "      [theme=dark] .colab-df-generate {\n",
              "        background-color: #3B4455;\n",
              "        fill: #D2E3FC;\n",
              "      }\n",
              "\n",
              "      [theme=dark] .colab-df-generate:hover {\n",
              "        background-color: #434B5C;\n",
              "        box-shadow: 0px 1px 3px 1px rgba(0, 0, 0, 0.15);\n",
              "        filter: drop-shadow(0px 1px 2px rgba(0, 0, 0, 0.3));\n",
              "        fill: #FFFFFF;\n",
              "      }\n",
              "    </style>\n",
              "    <button class=\"colab-df-generate\" onclick=\"generateWithVariable('dataframe_correlacao')\"\n",
              "            title=\"Generate code using this dataframe.\"\n",
              "            style=\"display:none;\">\n",
              "\n",
              "  <svg xmlns=\"http://www.w3.org/2000/svg\" height=\"24px\"viewBox=\"0 0 24 24\"\n",
              "       width=\"24px\">\n",
              "    <path d=\"M7,19H8.4L18.45,9,17,7.55,7,17.6ZM5,21V16.75L18.45,3.32a2,2,0,0,1,2.83,0l1.4,1.43a1.91,1.91,0,0,1,.58,1.4,1.91,1.91,0,0,1-.58,1.4L9.25,21ZM18.45,9,17,7.55Zm-12,3A5.31,5.31,0,0,0,4.9,8.1,5.31,5.31,0,0,0,1,6.5,5.31,5.31,0,0,0,4.9,4.9,5.31,5.31,0,0,0,6.5,1,5.31,5.31,0,0,0,8.1,4.9,5.31,5.31,0,0,0,12,6.5,5.46,5.46,0,0,0,6.5,12Z\"/>\n",
              "  </svg>\n",
              "    </button>\n",
              "    <script>\n",
              "      (() => {\n",
              "      const buttonEl =\n",
              "        document.querySelector('#id_dec5a530-8dee-4125-8045-30c8f54d0e0a button.colab-df-generate');\n",
              "      buttonEl.style.display =\n",
              "        google.colab.kernel.accessAllowed ? 'block' : 'none';\n",
              "\n",
              "      buttonEl.onclick = () => {\n",
              "        google.colab.notebook.generateWithVariable('dataframe_correlacao');\n",
              "      }\n",
              "      })();\n",
              "    </script>\n",
              "  </div>\n",
              "\n",
              "    </div>\n",
              "  </div>\n"
            ],
            "application/vnd.google.colaboratory.intrinsic+json": {
              "type": "dataframe",
              "variable_name": "dataframe_correlacao",
              "summary": "{\n  \"name\": \"dataframe_correlacao\",\n  \"rows\": 17,\n  \"fields\": [\n    {\n      \"column\": \"bathrooms\",\n      \"properties\": {\n        \"dtype\": \"number\",\n        \"std\": 0.38183911008881405,\n        \"min\": -0.2754579640164939,\n        \"max\": 1.0,\n        \"num_unique_values\": 17,\n        \"samples\": [\n          1.0,\n          0.6659108140405653,\n          0.007624254692644069\n        ],\n        \"semantic_type\": \"\",\n        \"description\": \"\"\n      }\n    },\n    {\n      \"column\": \"bedrooms\",\n      \"properties\": {\n        \"dtype\": \"number\",\n        \"std\": 0.36808123613734867,\n        \"min\": -0.25833901797281017,\n        \"max\": 1.0,\n        \"num_unique_values\": 17,\n        \"samples\": [\n          0.6659108140405653,\n          1.0,\n          -0.007161958491283782\n        ],\n        \"semantic_type\": \"\",\n        \"description\": \"\"\n      }\n    },\n    {\n      \"column\": \"floors\",\n      \"properties\": {\n        \"dtype\": \"number\",\n        \"std\": 0.30573142605730963,\n        \"min\": -0.14208959758520126,\n        \"max\": 1.0,\n        \"num_unique_values\": 17,\n        \"samples\": [\n          -0.044590754113843306,\n          -0.08218400633983175,\n          0.12098169964824113\n        ],\n        \"semantic_type\": \"\",\n        \"description\": \"\"\n      }\n    },\n    {\n      \"column\": \"parkingSpaces\",\n      \"properties\": {\n        \"dtype\": \"number\",\n        \"std\": 0.334051527400311,\n        \"min\": -0.2527455846176245,\n        \"max\": 1.0,\n        \"num_unique_values\": 17,\n        \"samples\": [\n          0.48759044726023815,\n          0.46716126012123943,\n          0.003767553698908447\n        ],\n        \"semantic_type\": \"\",\n        \"description\": \"\"\n      }\n    },\n    {\n      \"column\": \"suites\",\n      \"properties\": {\n        \"dtype\": \"number\",\n        \"std\": 0.3751374762504385,\n        \"min\": -0.23621691050838622,\n        \"max\": 1.0,\n        \"num_unique_values\": 17,\n        \"samples\": [\n          0.7529278295375484,\n          0.601199219995096,\n          0.0052061625992070575\n        ],\n        \"semantic_type\": \"\",\n        \"description\": \"\"\n      }\n    },\n    {\n      \"column\": \"unitFloor\",\n      \"properties\": {\n        \"dtype\": \"number\",\n        \"std\": 0.24227940009880078,\n        \"min\": -0.03140334035911353,\n        \"max\": 1.0,\n        \"num_unique_values\": 17,\n        \"samples\": [\n          0.007624254692644069,\n          -0.007161958491283782,\n          1.0\n        ],\n        \"semantic_type\": \"\",\n        \"description\": \"\"\n      }\n    },\n    {\n      \"column\": \"unitsOnTheFloor\",\n      \"properties\": {\n        \"dtype\": \"number\",\n        \"std\": 0.3139494034172362,\n        \"min\": -0.14422179515473582,\n        \"max\": 1.0,\n        \"num_unique_values\": 17,\n        \"samples\": [\n          -0.10743744458609901,\n          -0.1308144379332702,\n          0.09235873974173764\n        ],\n        \"semantic_type\": \"\",\n        \"description\": \"\"\n      }\n    },\n    {\n      \"column\": \"usableAreas\",\n      \"properties\": {\n        \"dtype\": \"number\",\n        \"std\": 0.376963882390353,\n        \"min\": -0.4821703677184639,\n        \"max\": 1.0,\n        \"num_unique_values\": 17,\n        \"samples\": [\n          0.598072789631116,\n          0.5637502466117337,\n          -0.01274843194843692\n        ],\n        \"semantic_type\": \"\",\n        \"description\": \"\"\n      }\n    },\n    {\n      \"column\": \"condo\",\n      \"properties\": {\n        \"dtype\": \"number\",\n        \"std\": 0.24352291441576693,\n        \"min\": -0.013452816993875738,\n        \"max\": 1.0,\n        \"num_unique_values\": 17,\n        \"samples\": [\n          0.02002989446116127,\n          0.018481930666284924,\n          0.00306513241061724\n        ],\n        \"semantic_type\": \"\",\n        \"description\": \"\"\n      }\n    },\n    {\n      \"column\": \"iptu\",\n      \"properties\": {\n        \"dtype\": \"number\",\n        \"std\": 0.2439113685794673,\n        \"min\": -0.008400298672645697,\n        \"max\": 1.0,\n        \"num_unique_values\": 17,\n        \"samples\": [\n          0.01510239773968244,\n          0.013639153499004322,\n          0.0012001172185854313\n        ],\n        \"semantic_type\": \"\",\n        \"description\": \"\"\n      }\n    },\n    {\n      \"column\": \"Apartamento\",\n      \"properties\": {\n        \"dtype\": \"number\",\n        \"std\": 0.39250335104698575,\n        \"min\": -0.9322703300606359,\n        \"max\": 1.0,\n        \"num_unique_values\": 17,\n        \"samples\": [\n          -0.2754579640164939,\n          -0.25833901797281017,\n          0.0346738112182197\n        ],\n        \"semantic_type\": \"\",\n        \"description\": \"\"\n      }\n    },\n    {\n      \"column\": \"Casa\",\n      \"properties\": {\n        \"dtype\": \"number\",\n        \"std\": 0.3941236796202685,\n        \"min\": -0.9322703300606359,\n        \"max\": 1.0,\n        \"num_unique_values\": 17,\n        \"samples\": [\n          0.3430423783410961,\n          0.34996218926356043,\n          -0.03140334035911353\n        ],\n        \"semantic_type\": \"\",\n        \"description\": \"\"\n      }\n    },\n    {\n      \"column\": \"Outros\",\n      \"properties\": {\n        \"dtype\": \"number\",\n        \"std\": 0.2734108300618255,\n        \"min\": -0.31303202778702494,\n        \"max\": 1.0,\n        \"num_unique_values\": 17,\n        \"samples\": [\n          -0.140183419510182,\n          -0.20560770488836363,\n          -0.01327462560504054\n        ],\n        \"semantic_type\": \"\",\n        \"description\": \"\"\n      }\n    },\n    {\n      \"column\": \"Zona Central\",\n      \"properties\": {\n        \"dtype\": \"number\",\n        \"std\": 0.26137235489008026,\n        \"min\": -0.1238342800535981,\n        \"max\": 1.0,\n        \"num_unique_values\": 17,\n        \"samples\": [\n          -0.09736781896642936,\n          -0.12373215192578527,\n          0.022314752982756175\n        ],\n        \"semantic_type\": \"\",\n        \"description\": \"\"\n      }\n    },\n    {\n      \"column\": \"Zona Norte\",\n      \"properties\": {\n        \"dtype\": \"number\",\n        \"std\": 0.3036629921854298,\n        \"min\": -0.5229964523836739,\n        \"max\": 1.0,\n        \"num_unique_values\": 17,\n        \"samples\": [\n          -0.1624974410659158,\n          -0.11171186547703367,\n          -0.011111574148266596\n        ],\n        \"semantic_type\": \"\",\n        \"description\": \"\"\n      }\n    },\n    {\n      \"column\": \"Zona Oeste\",\n      \"properties\": {\n        \"dtype\": \"number\",\n        \"std\": 0.3524480194330592,\n        \"min\": -0.6175510218746045,\n        \"max\": 1.0,\n        \"num_unique_values\": 17,\n        \"samples\": [\n          0.24234512440852313,\n          0.1638216981164835,\n          0.007517857899530639\n        ],\n        \"semantic_type\": \"\",\n        \"description\": \"\"\n      }\n    },\n    {\n      \"column\": \"Zona Sul\",\n      \"properties\": {\n        \"dtype\": \"number\",\n        \"std\": 0.3161630272108152,\n        \"min\": -0.6175510218746045,\n        \"max\": 1.0,\n        \"num_unique_values\": 17,\n        \"samples\": [\n          -0.09875175758849346,\n          -0.04943252002963225,\n          -0.004332638565609804\n        ],\n        \"semantic_type\": \"\",\n        \"description\": \"\"\n      }\n    }\n  ]\n}"
            }
          },
          "metadata": {},
          "execution_count": 42
        }
      ]
    },
    {
      "cell_type": "markdown",
      "source": [
        "<img src='https://media.discordapp.net/attachments/888468711906893834/968929975963119626/unknown.png'>"
      ],
      "metadata": {
        "id": "yRP8oX3CHhaL"
      }
    },
    {
      "cell_type": "markdown",
      "source": [
        "# Representação visual da Matriz de Correlação"
      ],
      "metadata": {
        "id": "PWheB3MDNn8Z"
      }
    },
    {
      "cell_type": "code",
      "source": [
        "# Configuração da paleta\n",
        "plt.figure(figsize=(12,10))\n",
        "paleta = sns.color_palette(\"Blues\", as_cmap=True)\n",
        "sns.heatmap(dataframe_correlacao.round(1), annot=True, cmap=paleta)"
      ],
      "metadata": {
        "id": "M9VNLa6RcarA",
        "colab": {
          "base_uri": "https://localhost:8080/",
          "height": 953
        },
        "outputId": "c7e1069a-425d-4eb2-93a1-ce04cbcdc645"
      },
      "execution_count": 103,
      "outputs": [
        {
          "output_type": "execute_result",
          "data": {
            "text/plain": [
              "<Axes: >"
            ]
          },
          "metadata": {},
          "execution_count": 103
        },
        {
          "output_type": "display_data",
          "data": {
            "text/plain": [
              "<Figure size 1200x1000 with 2 Axes>"
            ],
            "image/png": "[encoded data removed]"
          },
          "metadata": {}
        }
      ]
    },
    {
      "cell_type": "markdown",
      "source": [
        "Verificação de Multicolinearidade, ou seja, correlação dos dados de duas features: **banheiros e suítes (R=0.8).**\n",
        "\n",
        ">\n",
        "\n",
        "As features não serão removidas pois a correlação é < R=0.9, dessa forma, provavelmente a correlação observada não resultará em redundância no modelo.\n",
        "\n"
      ],
      "metadata": {
        "id": "InKQKxa8N15C"
      }
    },
    {
      "cell_type": "markdown",
      "source": [
        "## **Ajuste e Previsão**\n"
      ],
      "metadata": {
        "id": "HCHJN2tjwemu"
      }
    },
    {
      "cell_type": "markdown",
      "source": [
        "Divisão dos dados em 70% treino e 30% teste."
      ],
      "metadata": {
        "id": "OrTVCDHDOt76"
      }
    },
    {
      "cell_type": "code",
      "source": [
        "# Seed=101 para aumentar reprodutibilidade do modelo\n",
        "treino, teste = dataset_prep.randomSplit([0.7, 0.3], seed=101)"
      ],
      "metadata": {
        "id": "rgghIj7LxyMt"
      },
      "execution_count": 44,
      "outputs": []
    },
    {
      "cell_type": "code",
      "source": [
        "# Contagem dos valores de treino após separação dos dados\n",
        "treino.count()"
      ],
      "metadata": {
        "id": "rGt4dAtPz3wr",
        "colab": {
          "base_uri": "https://localhost:8080/"
        },
        "outputId": "03b0da72-9a73-4d3b-e99f-8db2fdea8f5a"
      },
      "execution_count": 45,
      "outputs": [
        {
          "output_type": "execute_result",
          "data": {
            "text/plain": [
              "48528"
            ]
          },
          "metadata": {},
          "execution_count": 45
        }
      ]
    },
    {
      "cell_type": "code",
      "source": [
        "# Contagem dos valores de teste após separação dos dados\n",
        "teste.count()"
      ],
      "metadata": {
        "id": "wDbUFnOo0ACI",
        "colab": {
          "base_uri": "https://localhost:8080/"
        },
        "outputId": "7b8e59ae-9acf-40e1-afce-5a0e494f01ba"
      },
      "execution_count": 46,
      "outputs": [
        {
          "output_type": "execute_result",
          "data": {
            "text/plain": [
              "20911"
            ]
          },
          "metadata": {},
          "execution_count": 46
        }
      ]
    },
    {
      "cell_type": "markdown",
      "source": [
        "Criação do **objeto regressor** para **Regressão Linear**"
      ],
      "metadata": {
        "id": "TO4FwBRFPHpB"
      }
    },
    {
      "cell_type": "code",
      "source": [
        "lr = LinearRegression()"
      ],
      "metadata": {
        "id": "ggiFWxS40Bwy"
      },
      "execution_count": 47,
      "outputs": []
    },
    {
      "cell_type": "code",
      "source": [
        "# Ajuste dos dados de treino ao objeto regressor\n",
        "modelo_lr = lr.fit(treino)"
      ],
      "metadata": {
        "id": "LQxmf2Ld0W1w"
      },
      "execution_count": 48,
      "outputs": []
    },
    {
      "cell_type": "code",
      "source": [
        "# Previsões para os dados de treino\n",
        "previsoes_lr_treino = modelo_lr.transform(treino)"
      ],
      "metadata": {
        "id": "PmIsEpfg0gj2"
      },
      "execution_count": 49,
      "outputs": []
    },
    {
      "cell_type": "code",
      "source": [
        "# Visualização das previsões\n",
        "previsoes_lr_treino.show()"
      ],
      "metadata": {
        "id": "256sSslI0tLG",
        "colab": {
          "base_uri": "https://localhost:8080/"
        },
        "outputId": "065ced38-07aa-4838-e6e1-2d3121ad706d"
      },
      "execution_count": 50,
      "outputs": [
        {
          "output_type": "stream",
          "name": "stdout",
          "text": [
            "+--------------------+--------+------------------+\n",
            "|            features|   label|        prediction|\n",
            "+--------------------+--------+------------------+\n",
            "|(17,[0,1,2,3,4,5,...|260000.0|443266.04737020144|\n",
            "|(17,[0,1,2,3,4,5,...|500000.0|1127455.8300462805|\n",
            "|(17,[0,1,2,3,4,5,...|308615.0|111210.49949889386|\n",
            "|(17,[0,1,2,3,4,5,...|279000.0|113587.95787719043|\n",
            "|(17,[0,1,2,3,4,5,...|545000.0|340703.71307873435|\n",
            "|(17,[0,1,2,3,4,5,...|449000.0|390571.99595798284|\n",
            "|(17,[0,1,2,3,4,5,...|479000.0| 444003.4297194885|\n",
            "|(17,[0,1,2,3,4,5,...|420000.0| 720022.1542161054|\n",
            "|(17,[0,1,2,3,4,5,...|265000.0|519406.05037395435|\n",
            "|(17,[0,1,2,3,4,5,...|490000.0| 845483.5388437647|\n",
            "|(17,[0,1,2,3,4,5,...|650000.0| 644931.4982488954|\n",
            "|(17,[0,1,2,3,4,5,...|379900.0| 448889.3339027724|\n",
            "|(17,[0,1,2,3,4,5,...|449000.0| 714548.9501108339|\n",
            "|(17,[0,1,2,3,4,5,...|190000.0| 411726.9411630478|\n",
            "|(17,[0,1,2,3,4,5,...|896000.0| 597499.4601552959|\n",
            "|(17,[0,1,2,3,4,5,...|679000.0| 864544.0129262989|\n",
            "|(17,[0,1,2,3,4,5,...|620000.0| 462766.7203440106|\n",
            "|(17,[0,1,2,3,4,5,...|727000.0|419082.43132300966|\n",
            "|(17,[0,1,2,3,4,5,...|880000.0| 742962.4865669494|\n",
            "|(17,[0,1,2,3,4,5,...|435000.0| 357556.2432515231|\n",
            "+--------------------+--------+------------------+\n",
            "only showing top 20 rows\n",
            "\n"
          ]
        }
      ]
    },
    {
      "cell_type": "markdown",
      "source": [
        "## **Métricas**"
      ],
      "metadata": {
        "id": "sZHCjR2twqLt"
      }
    },
    {
      "cell_type": "markdown",
      "source": [
        "Métricas para avaliação do modelo\n",
        "- RMSE (Raiz do erro quadrado médio): Diferença entre os valores previstos por um modelo e os valores reais observados, ou seja, mede o erro.\n",
        "- R2: Medida estatística que representa a proporção de variância explicada pelas váriaveis independentes (features) em um modelo de regressão, ou seja, quanto o modelo está ajustado aos dados."
      ],
      "metadata": {
        "id": "VkqplmphVEc0"
      }
    },
    {
      "cell_type": "code",
      "source": [
        "# Sumário do modelo - treino\n",
        "resumo_treino = modelo_lr.summary"
      ],
      "metadata": {
        "id": "AcjWWD5UGf--"
      },
      "execution_count": 51,
      "outputs": []
    },
    {
      "cell_type": "code",
      "source": [
        "# Verificação do RMSE - teino\n",
        "resumo_treino.rootMeanSquaredError"
      ],
      "metadata": {
        "id": "tforANXbGr9X",
        "colab": {
          "base_uri": "https://localhost:8080/"
        },
        "outputId": "98e73662-7c37-4300-9a01-4d657f9683b4"
      },
      "execution_count": 52,
      "outputs": [
        {
          "output_type": "execute_result",
          "data": {
            "text/plain": [
              "810348.969531623"
            ]
          },
          "metadata": {},
          "execution_count": 52
        }
      ]
    },
    {
      "cell_type": "code",
      "source": [
        "# Verificação do R2 - treino\n",
        "resumo_treino.r2"
      ],
      "metadata": {
        "id": "cln13U6HGxJG",
        "colab": {
          "base_uri": "https://localhost:8080/"
        },
        "outputId": "83343c44-a407-452a-bd1f-a8ecc35d67ad"
      },
      "execution_count": 53,
      "outputs": [
        {
          "output_type": "execute_result",
          "data": {
            "text/plain": [
              "0.6655873678454578"
            ]
          },
          "metadata": {},
          "execution_count": 53
        }
      ]
    },
    {
      "cell_type": "code",
      "source": [
        "# Avaliação das métrica para o conjunto de teste\n",
        "resumo_teste = modelo_lr.evaluate(teste)"
      ],
      "metadata": {
        "id": "S9F9hLEaGuK-"
      },
      "execution_count": 54,
      "outputs": []
    },
    {
      "cell_type": "code",
      "source": [
        "# Verificação do RMSE - teste\n",
        "resumo_teste.rootMeanSquaredError"
      ],
      "metadata": {
        "id": "II5jEVeZHgOX",
        "colab": {
          "base_uri": "https://localhost:8080/"
        },
        "outputId": "12494c1e-9a68-4170-a5e3-2d2f117ee3a3"
      },
      "execution_count": 55,
      "outputs": [
        {
          "output_type": "execute_result",
          "data": {
            "text/plain": [
              "800525.9696828632"
            ]
          },
          "metadata": {},
          "execution_count": 55
        }
      ]
    },
    {
      "cell_type": "code",
      "source": [
        "# Verificação do R2 - teste\n",
        "resumo_teste.r2"
      ],
      "metadata": {
        "id": "zwEU83VQHn4c",
        "colab": {
          "base_uri": "https://localhost:8080/"
        },
        "outputId": "e99ecf35-470b-4fd1-d026-a74aa3ae0eae"
      },
      "execution_count": 56,
      "outputs": [
        {
          "output_type": "execute_result",
          "data": {
            "text/plain": [
              "0.6585207937774393"
            ]
          },
          "metadata": {},
          "execution_count": 56
        }
      ]
    },
    {
      "cell_type": "markdown",
      "source": [
        "### **Tabela Resumo Regressão Linear**"
      ],
      "metadata": {
        "id": "sQOggnPSH4CP"
      }
    },
    {
      "cell_type": "markdown",
      "source": [
        "Geração de tabela resumo para avaliação do modelo de Regressão Linear e para fulturas consultas e comparação entre modelos"
      ],
      "metadata": {
        "id": "yCBqgyuwXAWr"
      }
    },
    {
      "cell_type": "code",
      "source": [
        "print('Linear Regression')\n",
        "print(\"=\"*30)\n",
        "print(\"Dados de Treino\")\n",
        "print(\"=\"*30)\n",
        "print(\"R²: %f\" % resumo_treino.r2)\n",
        "print(\"RMSE: %f\" % resumo_treino.rootMeanSquaredError)\n",
        "print(\"\")\n",
        "print(\"=\"*30)\n",
        "print(\"Dados de Teste\")\n",
        "print(\"=\"*30)\n",
        "print(\"R²: %f\" % resumo_teste.r2)\n",
        "print(\"RMSE: %f\" % resumo_teste.rootMeanSquaredError)"
      ],
      "metadata": {
        "id": "oejGzhQkHqzV",
        "colab": {
          "base_uri": "https://localhost:8080/"
        },
        "outputId": "920871b8-b719-4617-8747-04f5413f7408"
      },
      "execution_count": 57,
      "outputs": [
        {
          "output_type": "stream",
          "name": "stdout",
          "text": [
            "Linear Regression\n",
            "==============================\n",
            "Dados de Treino\n",
            "==============================\n",
            "R²: 0.665587\n",
            "RMSE: 810348.969532\n",
            "\n",
            "==============================\n",
            "Dados de Teste\n",
            "==============================\n",
            "R²: 0.658521\n",
            "RMSE: 800525.969683\n"
          ]
        }
      ]
    },
    {
      "cell_type": "markdown",
      "source": [
        "## **Modelo de Árvore de Decisão**"
      ],
      "metadata": {
        "id": "yWMtB0k3SNgj"
      }
    },
    {
      "cell_type": "markdown",
      "source": [
        "Escolha dos parâmetros:\n",
        "- **seed=191** para **reprodutibilidade**\n",
        "- **maxDepth=7** representa a **profundidade** da árvore, ou seja, o número de decisões até chegar na regressão final"
      ],
      "metadata": {
        "id": "xCG4VF08Xgtm"
      }
    },
    {
      "cell_type": "code",
      "source": [
        "# Criação do objeto regressão com os parâmetros definidos\n",
        "dtr = DecisionTreeRegressor(seed=191, maxDepth=7)"
      ],
      "metadata": {
        "id": "Tz8pWHIpTgff"
      },
      "execution_count": 58,
      "outputs": []
    },
    {
      "cell_type": "code",
      "source": [
        "# Ajuste dos dados de treino\n",
        "modelo_dtr = dtr.fit(treino)"
      ],
      "metadata": {
        "id": "SvAZRXEKT-kX"
      },
      "execution_count": 59,
      "outputs": []
    },
    {
      "cell_type": "code",
      "source": [
        "# Previsão com base nos dados de treino\n",
        "previsoes_dtr_treino = modelo_dtr.transform(treino)"
      ],
      "metadata": {
        "id": "GjDvVo-9T_JN"
      },
      "execution_count": 60,
      "outputs": []
    },
    {
      "cell_type": "code",
      "source": [
        "# Visualização das previsões - treino\n",
        "previsoes_dtr_treino.show()"
      ],
      "metadata": {
        "id": "yUGFUxTfUvS-",
        "colab": {
          "base_uri": "https://localhost:8080/"
        },
        "outputId": "249f1dfd-9032-4117-9fe6-4e64d89b8917"
      },
      "execution_count": 61,
      "outputs": [
        {
          "output_type": "stream",
          "name": "stdout",
          "text": [
            "+--------------------+--------+-----------------+\n",
            "|            features|   label|       prediction|\n",
            "+--------------------+--------+-----------------+\n",
            "|(17,[0,1,2,3,4,5,...|260000.0|340855.8044843049|\n",
            "|(17,[0,1,2,3,4,5,...|500000.0|551560.6692818346|\n",
            "|(17,[0,1,2,3,4,5,...|308615.0|340855.8044843049|\n",
            "|(17,[0,1,2,3,4,5,...|279000.0|340855.8044843049|\n",
            "|(17,[0,1,2,3,4,5,...|545000.0|    445137.460625|\n",
            "|(17,[0,1,2,3,4,5,...|449000.0|551560.6692818346|\n",
            "|(17,[0,1,2,3,4,5,...|479000.0|    445137.460625|\n",
            "|(17,[0,1,2,3,4,5,...|420000.0|551560.6692818346|\n",
            "|(17,[0,1,2,3,4,5,...|265000.0|551560.6692818346|\n",
            "|(17,[0,1,2,3,4,5,...|490000.0|845048.3603896104|\n",
            "|(17,[0,1,2,3,4,5,...|650000.0|747938.5945633315|\n",
            "|(17,[0,1,2,3,4,5,...|379900.0|    445137.460625|\n",
            "|(17,[0,1,2,3,4,5,...|449000.0|    445137.460625|\n",
            "|(17,[0,1,2,3,4,5,...|190000.0|340855.8044843049|\n",
            "|(17,[0,1,2,3,4,5,...|896000.0|551560.6692818346|\n",
            "|(17,[0,1,2,3,4,5,...|679000.0|845048.3603896104|\n",
            "|(17,[0,1,2,3,4,5,...|620000.0|551560.6692818346|\n",
            "|(17,[0,1,2,3,4,5,...|727000.0|551560.6692818346|\n",
            "|(17,[0,1,2,3,4,5,...|880000.0|551560.6692818346|\n",
            "|(17,[0,1,2,3,4,5,...|435000.0|340855.8044843049|\n",
            "+--------------------+--------+-----------------+\n",
            "only showing top 20 rows\n",
            "\n"
          ]
        }
      ]
    },
    {
      "cell_type": "markdown",
      "source": [
        "## **Métricas**"
      ],
      "metadata": {
        "id": "jF7TGPnMf85Q"
      }
    },
    {
      "cell_type": "markdown",
      "source": [
        "Criação do objeto **evaluator** da biblioteca Pyspark para avaliação do modelo"
      ],
      "metadata": {
        "id": "K_i7JtRCYhO0"
      }
    },
    {
      "cell_type": "code",
      "source": [
        "evaluator = RegressionEvaluator()"
      ],
      "metadata": {
        "id": "gcx17C4aUvF2"
      },
      "execution_count": 62,
      "outputs": []
    },
    {
      "cell_type": "markdown",
      "source": [
        "Avaliação das mesmas métricas utilizadas para a Regressão Linear para comparação dos modelos"
      ],
      "metadata": {
        "id": "DV0jDEiyY3Mj"
      }
    },
    {
      "cell_type": "code",
      "source": [
        "# Métricas R2 e RMSE - treino\n",
        "print(evaluator.evaluate(previsoes_dtr_treino, {evaluator.metricName: \"r2\"}))\n",
        "print(evaluator.evaluate(previsoes_dtr_treino, {evaluator.metricName: \"rmse\"}))"
      ],
      "metadata": {
        "id": "tWw3lA9jqBHg",
        "colab": {
          "base_uri": "https://localhost:8080/"
        },
        "outputId": "9697b9da-fc54-4478-d6ee-cc2e703452f6"
      },
      "execution_count": 63,
      "outputs": [
        {
          "output_type": "stream",
          "name": "stdout",
          "text": [
            "0.7929460835083209\n",
            "637635.4762225805\n"
          ]
        }
      ]
    },
    {
      "cell_type": "code",
      "source": [
        "# Previsões para o conjunto de teste\n",
        "previsoes_dtr_teste = modelo_dtr.transform(teste)"
      ],
      "metadata": {
        "id": "6wze9epGqKd-"
      },
      "execution_count": 64,
      "outputs": []
    },
    {
      "cell_type": "code",
      "source": [
        "# Visualização das previsões para o conjunto de teste\n",
        "previsoes_dtr_teste.show()"
      ],
      "metadata": {
        "id": "Pd0ALF3rUu5e",
        "colab": {
          "base_uri": "https://localhost:8080/"
        },
        "outputId": "9d7088ef-3644-4852-8b1c-f3b42f8e889b"
      },
      "execution_count": 65,
      "outputs": [
        {
          "output_type": "stream",
          "name": "stdout",
          "text": [
            "+--------------------+---------+------------------+\n",
            "|            features|    label|        prediction|\n",
            "+--------------------+---------+------------------+\n",
            "|(17,[0,1,2,3,4,5,...| 199000.0| 340855.8044843049|\n",
            "|(17,[0,1,2,3,4,5,...| 350000.0| 845048.3603896104|\n",
            "|(17,[0,1,2,3,4,5,...| 340000.0| 551560.6692818346|\n",
            "|(17,[0,1,2,3,4,5,...| 430000.0| 551560.6692818346|\n",
            "|(17,[0,1,2,3,4,5,...| 600000.0| 551560.6692818346|\n",
            "|(17,[0,1,2,3,4,5,...| 439000.0| 551560.6692818346|\n",
            "|(17,[0,1,2,3,4,5,...| 333000.0| 340855.8044843049|\n",
            "|(17,[0,1,2,3,4,5,...| 948000.0| 747938.5945633315|\n",
            "|(17,[0,1,2,3,4,5,...| 459600.0| 340855.8044843049|\n",
            "|(17,[0,1,2,3,4,5,...| 447600.0| 340855.8044843049|\n",
            "|(17,[0,1,2,3,4,5,...| 360000.0| 340855.8044843049|\n",
            "|(17,[0,1,2,3,4,5,...| 407000.0| 551560.6692818346|\n",
            "|(17,[0,1,2,3,4,5,...| 310000.0| 340855.8044843049|\n",
            "|(17,[0,1,2,3,4,5,...|1400000.0|1210691.5737113403|\n",
            "|(17,[0,1,2,3,4,5,...|1180000.0|1210691.5737113403|\n",
            "|(17,[0,1,2,3,4,5,...|1299500.0|1210691.5737113403|\n",
            "|(17,[0,1,2,3,4,5,...| 296100.0| 340855.8044843049|\n",
            "|(17,[0,1,2,3,4,5,...| 285000.0| 340855.8044843049|\n",
            "|(17,[0,1,2,3,4,5,...| 679720.0| 551560.6692818346|\n",
            "|(17,[0,1,2,3,4,5,...| 509150.0| 551560.6692818346|\n",
            "+--------------------+---------+------------------+\n",
            "only showing top 20 rows\n",
            "\n"
          ]
        }
      ]
    },
    {
      "cell_type": "code",
      "source": [
        "# Métricas R2 e RMSE - teste\n",
        "print(evaluator.evaluate(previsoes_dtr_teste, {evaluator.metricName: \"r2\"}))\n",
        "print(evaluator.evaluate(previsoes_dtr_teste, {evaluator.metricName: \"rmse\"}))"
      ],
      "metadata": {
        "colab": {
          "base_uri": "https://localhost:8080/"
        },
        "id": "8_Q353YYMZjP",
        "outputId": "0afa1af6-afe4-4482-bfb0-823472790fa3"
      },
      "execution_count": 66,
      "outputs": [
        {
          "output_type": "stream",
          "name": "stdout",
          "text": [
            "0.7731591207864223\n",
            "652460.0944905207\n"
          ]
        }
      ]
    },
    {
      "cell_type": "markdown",
      "source": [
        "### Geração de **tabela resumo** para avaliação do modelo de Árvore de Decisão"
      ],
      "metadata": {
        "id": "VeY5cfk_ZWwc"
      }
    },
    {
      "cell_type": "code",
      "source": [
        "print('Decision Tree Regression')\n",
        "print(\"=\"*30)\n",
        "print(\"Dados de Treino\")\n",
        "print(\"=\"*30)\n",
        "print(\"R²: %f\" % evaluator.evaluate(previsoes_dtr_treino, {evaluator.metricName: \"r2\"}))\n",
        "print(\"RMSE: %f\" % evaluator.evaluate(previsoes_dtr_treino, {evaluator.metricName: \"rmse\"}))\n",
        "print(\"\")\n",
        "print(\"=\"*30)\n",
        "print(\"Dados de Teste\")\n",
        "print(\"=\"*30)\n",
        "print(\"R²: %f\" % evaluator.evaluate(previsoes_dtr_teste, {evaluator.metricName: \"r2\"}))\n",
        "print(\"RMSE: %f\" % evaluator.evaluate(previsoes_dtr_teste, {evaluator.metricName: \"rmse\"}))"
      ],
      "metadata": {
        "colab": {
          "base_uri": "https://localhost:8080/"
        },
        "id": "kntKlauSKys-",
        "outputId": "e1ff3eba-d603-45cc-b348-2a35aba41af3"
      },
      "execution_count": 67,
      "outputs": [
        {
          "output_type": "stream",
          "name": "stdout",
          "text": [
            "Decision Tree Regression\n",
            "==============================\n",
            "Dados de Treino\n",
            "==============================\n",
            "R²: 0.792946\n",
            "RMSE: 637635.476223\n",
            "\n",
            "==============================\n",
            "Dados de Teste\n",
            "==============================\n",
            "R²: 0.773159\n",
            "RMSE: 652460.094491\n"
          ]
        }
      ]
    },
    {
      "cell_type": "markdown",
      "source": [
        "# **Modelo Random Forest - Regressão**"
      ],
      "metadata": {
        "id": "JHC1U0I_r9HP"
      }
    },
    {
      "cell_type": "markdown",
      "source": [
        "O modelo Random Forest é chamado de **método de aprendizado de ensemble** (bootstrap agregation - **bagging**), ao qual é utilizado diferentes algoritmos combinados para obtenção da predição mais correta (modelo **mais complexo**)"
      ],
      "metadata": {
        "id": "FaM1mfiOZ3q2"
      }
    },
    {
      "cell_type": "markdown",
      "source": [
        "Escolha dos parâmetros:\n",
        "\n",
        "- seed=101 para reprodutibilidade\n",
        "- maxDepth=7 profundidade da árvore (mesmo que o modelo de Árvore de Decisão)\n",
        "- numTrees=10 representa o número de árvores\n"
      ],
      "metadata": {
        "id": "rto6CkS2aqVC"
      }
    },
    {
      "cell_type": "code",
      "source": [
        "# Criação do objeto regressão com os parâmetros definidos\n",
        "rfr = RandomForestRegressor(seed=101, maxDepth=7, numTrees=10)"
      ],
      "metadata": {
        "id": "nueVJvuZUuuf"
      },
      "execution_count": 68,
      "outputs": []
    },
    {
      "cell_type": "code",
      "source": [
        "# Ajuste dos dados de treino\n",
        "modelo_rfr = rfr.fit(treino)"
      ],
      "metadata": {
        "id": "xWHBs58DUuY7"
      },
      "execution_count": 69,
      "outputs": []
    },
    {
      "cell_type": "code",
      "source": [
        "# Previsão com base nos dados de treino\n",
        "previsoes_rfr_treino = modelo_rfr.transform(treino)"
      ],
      "metadata": {
        "id": "YWAuqBJOsuQh"
      },
      "execution_count": 70,
      "outputs": []
    },
    {
      "cell_type": "code",
      "source": [
        "# Visualização das previsões - treino\n",
        "previsoes_rfr_treino.show()"
      ],
      "metadata": {
        "id": "HKc026ans0JR",
        "colab": {
          "base_uri": "https://localhost:8080/"
        },
        "outputId": "9b8ec77c-9e82-440e-dc6c-85080345d40a"
      },
      "execution_count": 71,
      "outputs": [
        {
          "output_type": "stream",
          "name": "stdout",
          "text": [
            "+--------------------+--------+------------------+\n",
            "|            features|   label|        prediction|\n",
            "+--------------------+--------+------------------+\n",
            "|(17,[0,1,2,3,4,5,...|260000.0|390218.33742322924|\n",
            "|(17,[0,1,2,3,4,5,...|500000.0| 510060.6595782173|\n",
            "|(17,[0,1,2,3,4,5,...|308615.0|360766.74127901345|\n",
            "|(17,[0,1,2,3,4,5,...|279000.0|360766.74127901345|\n",
            "|(17,[0,1,2,3,4,5,...|545000.0|  396904.928725379|\n",
            "|(17,[0,1,2,3,4,5,...|449000.0|  492913.652312712|\n",
            "|(17,[0,1,2,3,4,5,...|479000.0|433807.13396085694|\n",
            "|(17,[0,1,2,3,4,5,...|420000.0| 664440.4325776277|\n",
            "|(17,[0,1,2,3,4,5,...|265000.0|479615.50733929937|\n",
            "|(17,[0,1,2,3,4,5,...|490000.0| 816123.0337632223|\n",
            "|(17,[0,1,2,3,4,5,...|650000.0| 640247.1517314625|\n",
            "|(17,[0,1,2,3,4,5,...|379900.0|403131.21721626434|\n",
            "|(17,[0,1,2,3,4,5,...|449000.0|403131.21721626434|\n",
            "|(17,[0,1,2,3,4,5,...|190000.0| 356904.3339549792|\n",
            "|(17,[0,1,2,3,4,5,...|896000.0| 547828.3209496561|\n",
            "|(17,[0,1,2,3,4,5,...|679000.0| 893791.6624292185|\n",
            "|(17,[0,1,2,3,4,5,...|620000.0| 526635.5362588142|\n",
            "|(17,[0,1,2,3,4,5,...|727000.0| 526635.5362588142|\n",
            "|(17,[0,1,2,3,4,5,...|880000.0| 526635.5362588142|\n",
            "|(17,[0,1,2,3,4,5,...|435000.0| 356904.3339549792|\n",
            "+--------------------+--------+------------------+\n",
            "only showing top 20 rows\n",
            "\n"
          ]
        }
      ]
    },
    {
      "cell_type": "markdown",
      "source": [
        "## **Métricas**"
      ],
      "metadata": {
        "id": "HAvSRlDos6In"
      }
    },
    {
      "cell_type": "code",
      "source": [
        "# Métricas R2 e RMSE - teste\n",
        "print(evaluator.evaluate(previsoes_rfr_treino, {evaluator.metricName: \"r2\"}))\n",
        "print(evaluator.evaluate(previsoes_rfr_treino, {evaluator.metricName: \"rmse\"}))"
      ],
      "metadata": {
        "id": "MwazWWMmtAH0",
        "colab": {
          "base_uri": "https://localhost:8080/"
        },
        "outputId": "4e32a2b6-dec5-4b65-d9fd-601762262bd2"
      },
      "execution_count": 72,
      "outputs": [
        {
          "output_type": "stream",
          "name": "stdout",
          "text": [
            "0.8017561510914318\n",
            "623922.4426224458\n"
          ]
        }
      ]
    },
    {
      "cell_type": "code",
      "source": [
        "# Previsões com base no conjunto de teste\n",
        "previsoes_rfr_teste = modelo_rfr.transform(teste)"
      ],
      "metadata": {
        "id": "iZDKxVLWs5Sh"
      },
      "execution_count": 73,
      "outputs": []
    },
    {
      "cell_type": "code",
      "source": [
        "# Visualização das previsçoes - teste\n",
        "previsoes_rfr_teste.show()"
      ],
      "metadata": {
        "id": "weEVz1zwtU4k",
        "colab": {
          "base_uri": "https://localhost:8080/"
        },
        "outputId": "8605abd1-8bd0-4c15-a7a9-2023faa9e356"
      },
      "execution_count": 74,
      "outputs": [
        {
          "output_type": "stream",
          "name": "stdout",
          "text": [
            "+--------------------+---------+------------------+\n",
            "|            features|    label|        prediction|\n",
            "+--------------------+---------+------------------+\n",
            "|(17,[0,1,2,3,4,5,...| 199000.0| 350678.0454640939|\n",
            "|(17,[0,1,2,3,4,5,...| 350000.0| 792518.9735011571|\n",
            "|(17,[0,1,2,3,4,5,...| 340000.0|479615.50733929937|\n",
            "|(17,[0,1,2,3,4,5,...| 430000.0| 526635.5362588142|\n",
            "|(17,[0,1,2,3,4,5,...| 600000.0| 526635.5362588142|\n",
            "|(17,[0,1,2,3,4,5,...| 439000.0| 550795.8732599718|\n",
            "|(17,[0,1,2,3,4,5,...| 333000.0| 356904.3339549792|\n",
            "|(17,[0,1,2,3,4,5,...| 948000.0| 640247.1517314625|\n",
            "|(17,[0,1,2,3,4,5,...| 459600.0| 356904.3339549792|\n",
            "|(17,[0,1,2,3,4,5,...| 447600.0| 356904.3339549792|\n",
            "|(17,[0,1,2,3,4,5,...| 360000.0| 356904.3339549792|\n",
            "|(17,[0,1,2,3,4,5,...| 407000.0|  492913.652312712|\n",
            "|(17,[0,1,2,3,4,5,...| 310000.0|412580.35636663495|\n",
            "|(17,[0,1,2,3,4,5,...|1400000.0| 1375418.570408164|\n",
            "|(17,[0,1,2,3,4,5,...|1180000.0| 1375418.570408164|\n",
            "|(17,[0,1,2,3,4,5,...|1299500.0|1111896.8209940076|\n",
            "|(17,[0,1,2,3,4,5,...| 296100.0| 352263.6404621517|\n",
            "|(17,[0,1,2,3,4,5,...| 285000.0| 352263.6404621517|\n",
            "|(17,[0,1,2,3,4,5,...| 679720.0| 580272.9453894051|\n",
            "|(17,[0,1,2,3,4,5,...| 509150.0| 508101.1046743891|\n",
            "+--------------------+---------+------------------+\n",
            "only showing top 20 rows\n",
            "\n"
          ]
        }
      ]
    },
    {
      "cell_type": "markdown",
      "source": [
        "### Geração de **tabela resumo** para avaliação do modelo Random Forest"
      ],
      "metadata": {
        "id": "5-IbGwCBbpdr"
      }
    },
    {
      "cell_type": "code",
      "source": [
        "print('Random Forest Regression')\n",
        "print(\"=\"*30)\n",
        "print(\"Dados de Treino\")\n",
        "print(\"=\"*30)\n",
        "print(\"R²: %f\" % evaluator.evaluate(previsoes_rfr_treino, {evaluator.metricName: \"r2\"}))\n",
        "print(\"RMSE: %f\" % evaluator.evaluate(previsoes_rfr_treino, {evaluator.metricName: \"rmse\"}))\n",
        "print(\"\")\n",
        "print(\"=\"*30)\n",
        "print(\"Dados de Teste\")\n",
        "print(\"=\"*30)\n",
        "print(\"R²: %f\" % evaluator.evaluate(previsoes_rfr_teste, {evaluator.metricName: \"r2\"}))\n",
        "print(\"RMSE: %f\" % evaluator.evaluate(previsoes_rfr_teste, {evaluator.metricName: \"rmse\"}))"
      ],
      "metadata": {
        "id": "G5PBUl5jtYcw",
        "colab": {
          "base_uri": "https://localhost:8080/"
        },
        "outputId": "389dc349-763b-41d6-9bc5-7565dc8a6af5"
      },
      "execution_count": 75,
      "outputs": [
        {
          "output_type": "stream",
          "name": "stdout",
          "text": [
            "Random Forest Regression\n",
            "==============================\n",
            "Dados de Treino\n",
            "==============================\n",
            "R²: 0.801756\n",
            "RMSE: 623922.442622\n",
            "\n",
            "==============================\n",
            "Dados de Teste\n",
            "==============================\n",
            "R²: 0.790530\n",
            "RMSE: 626981.467738\n"
          ]
        }
      ]
    },
    {
      "cell_type": "markdown",
      "source": [
        "# **Técnicas de Otimização**"
      ],
      "metadata": {
        "id": "mK33LsEVby2j"
      }
    },
    {
      "cell_type": "markdown",
      "source": [
        "## **Árvore de Decisão com Cross Validation**"
      ],
      "metadata": {
        "id": "AlAn1Pu_xnlc"
      }
    },
    {
      "cell_type": "code",
      "source": [
        "# Criação do objeto regressor\n",
        "dtr = DecisionTreeRegressor()"
      ],
      "metadata": {
        "id": "RkzuQjzlxZCU"
      },
      "execution_count": 76,
      "outputs": []
    },
    {
      "cell_type": "markdown",
      "source": [
        "**Criação do grid** com os parâmetros que serão testados para a **Árvore de Decisão**\n",
        "- MaxDepth = profundidade máxima da árvore (complexidade)\n",
        "- MaxBind = binning (granularidade do modelo)"
      ],
      "metadata": {
        "id": "H8Zl5CGoJRj4"
      }
    },
    {
      "cell_type": "code",
      "source": [
        "# Criação do grid com os parâmetros\n",
        "grid = ParamGridBuilder() \\\n",
        "    .addGrid(dtr.maxDepth, [2, 5, 10]) \\\n",
        "    .addGrid(dtr.maxBins, [10, 32, 45]) \\\n",
        "    .build()"
      ],
      "metadata": {
        "id": "6U1ZYbUGxzGQ"
      },
      "execution_count": 77,
      "outputs": []
    },
    {
      "cell_type": "code",
      "source": [
        "# Novo evaluator\n",
        "evaluator = RegressionEvaluator()"
      ],
      "metadata": {
        "id": "ZZxUkOfz1hQt"
      },
      "execution_count": 78,
      "outputs": []
    },
    {
      "cell_type": "markdown",
      "source": [
        "**Configuração do Cross Validator para a Árvore de Decisão**\n",
        "- Estimador\n",
        "- Parâmetros selecionados\n",
        "- Evaluator\n",
        "- Número de folds (separação do modelo em treino e teste)"
      ],
      "metadata": {
        "id": "ucg9jB6cOLlf"
      }
    },
    {
      "cell_type": "code",
      "source": [
        "# Criação do modelo com Cross Validator\n",
        "dtr_cv = CrossValidator(\n",
        "    estimator=dtr,\n",
        "    estimatorParamMaps=grid,\n",
        "    evaluator=evaluator,\n",
        "    numFolds=3,\n",
        "        seed = 101\n",
        ")"
      ],
      "metadata": {
        "id": "dqstyEuY2-k3"
      },
      "execution_count": 79,
      "outputs": []
    },
    {
      "cell_type": "code",
      "source": [
        "# Ajuste do modelo aos dados\n",
        "modelo_dtr_cv = dtr_cv.fit(treino)"
      ],
      "metadata": {
        "id": "n4BP1q_84NT7"
      },
      "execution_count": 80,
      "outputs": []
    },
    {
      "cell_type": "code",
      "source": [
        "# Previsão tendo como base os dados de teste\n",
        "previsoes_dtr_cv_teste = modelo_dtr_cv.transform(teste)"
      ],
      "metadata": {
        "id": "xljaay-e4foO"
      },
      "execution_count": 81,
      "outputs": []
    },
    {
      "cell_type": "markdown",
      "source": [
        "Geração de tabela resumo para avaliação do modelo **Árvore de Decisão com Cross Validation**"
      ],
      "metadata": {
        "id": "6wMmH04ZQ3CO"
      }
    },
    {
      "cell_type": "code",
      "source": [
        "print('Decision Tree Regression')\n",
        "print(\"=\"*30)\n",
        "print(\"Sem Cross Validation\")\n",
        "print(\"=\"*30)\n",
        "print(\"R²: %f\" % evaluator.evaluate(previsoes_dtr_teste, {evaluator.metricName: \"r2\"}))\n",
        "print(\"RMSE: %f\" % evaluator.evaluate(previsoes_dtr_teste, {evaluator.metricName: \"rmse\"}))\n",
        "print(\"\")\n",
        "print(\"=\"*30)\n",
        "print(\"Com Cross Validation\")\n",
        "print(\"=\"*30)\n",
        "print(\"R²: %f\" % evaluator.evaluate(previsoes_dtr_cv_teste, {evaluator.metricName: \"r2\"}))\n",
        "print(\"RMSE: %f\" % evaluator.evaluate(previsoes_dtr_cv_teste, {evaluator.metricName: \"rmse\"}))"
      ],
      "metadata": {
        "id": "0-lKrpsX6ks1",
        "colab": {
          "base_uri": "https://localhost:8080/"
        },
        "outputId": "2f7940d5-ae4d-447f-e517-4930efa6e4f6"
      },
      "execution_count": 82,
      "outputs": [
        {
          "output_type": "stream",
          "name": "stdout",
          "text": [
            "Decision Tree Regression\n",
            "==============================\n",
            "Sem Cross Validation\n",
            "==============================\n",
            "R²: 0.773159\n",
            "RMSE: 652460.094491\n",
            "\n",
            "==============================\n",
            "Com Cross Validation\n",
            "==============================\n",
            "R²: 0.783773\n",
            "RMSE: 637012.420358\n"
          ]
        }
      ]
    },
    {
      "cell_type": "markdown",
      "source": [
        "## **Random Forest com Cross Validation**\n"
      ],
      "metadata": {
        "id": "zkdaMi4zJGem"
      }
    },
    {
      "cell_type": "code",
      "source": [
        "# Criação do objeto regressor\n",
        "rfr = RandomForestRegressor()"
      ],
      "metadata": {
        "id": "kpVBEyubJaBZ"
      },
      "execution_count": 83,
      "outputs": []
    },
    {
      "cell_type": "markdown",
      "source": [
        "**Criação do grid** com os parâmetros que serão testados para **Random Forest**\n",
        "\n",
        "- MaxDepth = profundidade máxima da árvore (complexidade)\n",
        "- MaxBind = binning (granularidade do modelo)\n",
        "- NumTrees = número de árvores de decisão individuais que serão construídas para formar a \"floresta\""
      ],
      "metadata": {
        "id": "XPXZMvNpVZs0"
      }
    },
    {
      "cell_type": "code",
      "source": [
        "# Criação do grid com os parâmetros\n",
        "grid = ParamGridBuilder() \\\n",
        "    .addGrid(rfr.numTrees, [10, 20, 30]) \\\n",
        "    .addGrid(rfr.maxDepth, [5, 10]) \\\n",
        "    .addGrid(rfr.maxBins, [10, 32, 45]) \\\n",
        "    .build()"
      ],
      "metadata": {
        "id": "aZmS_aEeJg7G"
      },
      "execution_count": 84,
      "outputs": []
    },
    {
      "cell_type": "code",
      "source": [
        "# Novo evaluator\n",
        "evaluator = RegressionEvaluator()"
      ],
      "metadata": {
        "id": "QzYClq0zKSzd"
      },
      "execution_count": 85,
      "outputs": []
    },
    {
      "cell_type": "markdown",
      "source": [
        "**Configuração do Cross Validator para Random Forest**\n",
        "\n",
        "- Estimador\n",
        "- Parâmetros selecionados\n",
        "- Evaluator\n",
        "- Número de folds (separação do modelo em treino e teste)"
      ],
      "metadata": {
        "id": "WHrcYvtzWZzv"
      }
    },
    {
      "cell_type": "code",
      "source": [
        "# Criação do modelo com Cross Validator\n",
        "rfr_cv = CrossValidator(\n",
        "    estimator=rfr,\n",
        "    estimatorParamMaps=grid,\n",
        "    evaluator=evaluator,\n",
        "    numFolds=3\n",
        ")"
      ],
      "metadata": {
        "id": "tL8EU6u2KWU0"
      },
      "execution_count": 86,
      "outputs": []
    },
    {
      "cell_type": "code",
      "source": [
        "# Ajuste do modelo aos dados\n",
        "modelo_rfr_cv = rfr_cv.fit(treino)"
      ],
      "metadata": {
        "id": "JeOHQUp5Kg2s"
      },
      "execution_count": 87,
      "outputs": []
    },
    {
      "cell_type": "code",
      "source": [
        "# Previsão tendo como base os dados de teste\n",
        "previsoes_rfr_cv_teste = modelo_rfr_cv.transform(teste)"
      ],
      "metadata": {
        "id": "kzUE9lxFKj1c"
      },
      "execution_count": 88,
      "outputs": []
    },
    {
      "cell_type": "markdown",
      "source": [
        "Geração de tabela resumo para avaliação do modelo **Random Forest com Cross Validation**"
      ],
      "metadata": {
        "id": "cVbUyM3rWyy9"
      }
    },
    {
      "cell_type": "code",
      "source": [
        "print('Random Forest Regression')\n",
        "print(\"=\"*30)\n",
        "print(\"Sem Cross Validation\")\n",
        "print(\"=\"*30)\n",
        "print(\"R²: %f\" % evaluator.evaluate(previsoes_rfr_teste, {evaluator.metricName: \"r2\"}))\n",
        "print(\"RMSE: %f\" % evaluator.evaluate(previsoes_rfr_teste, {evaluator.metricName: \"rmse\"}))\n",
        "print(\"\")\n",
        "print(\"=\"*30)\n",
        "print(\"Com Cross Validation\")\n",
        "print(\"=\"*30)\n",
        "print(\"R²: %f\" % evaluator.evaluate(previsoes_rfr_cv_teste, {evaluator.metricName: \"r2\"}))\n",
        "print(\"RMSE: %f\" % evaluator.evaluate(previsoes_rfr_cv_teste, {evaluator.metricName: \"rmse\"}))"
      ],
      "metadata": {
        "id": "lFdTI78aKpJN",
        "colab": {
          "base_uri": "https://localhost:8080/"
        },
        "outputId": "21bc0e79-87aa-4c54-b2a9-7a77069a61e2"
      },
      "execution_count": 89,
      "outputs": [
        {
          "output_type": "stream",
          "name": "stdout",
          "text": [
            "Random Forest Regression\n",
            "==============================\n",
            "Sem Cross Validation\n",
            "==============================\n",
            "R²: 0.790530\n",
            "RMSE: 626981.467738\n",
            "\n",
            "==============================\n",
            "Com Cross Validation\n",
            "==============================\n",
            "R²: 0.831605\n",
            "RMSE: 562157.227221\n"
          ]
        }
      ]
    },
    {
      "cell_type": "markdown",
      "source": [
        "# Visualização gráfica do ajuste dos melhores modelos"
      ],
      "metadata": {
        "id": "rUehlljBbomx"
      }
    },
    {
      "cell_type": "code",
      "source": [
        "# -------------------------------------------------------------------\n",
        "# Passo 1: Criar uma AMOSTRA dos resultados e converter para Pandas\n",
        "# -------------------------------------------------------------------\n",
        "# Definindo uma fração para a amostragem. 0.15 = 15% (aprox. 10.500 pontos)\n",
        "sample_fraction = 0.15\n",
        "\n",
        "print(f\"Criando amostra de {sample_fraction*100}% dos dados de teste...\")\n",
        "dtr_cv_df_sample = previsoes_dtr_cv_teste.sample(withReplacement=False, fraction=sample_fraction).toPandas()\n",
        "rfr_cv_df_sample = previsoes_rfr_cv_teste.sample(withReplacement=False, fraction=sample_fraction).toPandas()\n",
        "print(\"Amostragem e conversão finalizadas.\")\n",
        "\n",
        "# Calculando os resíduos (erros) para cada modelo na amostra\n",
        "dtr_cv_df_sample['residuos'] = dtr_cv_df_sample['label'] - dtr_cv_df_sample['prediction']\n",
        "rfr_cv_df_sample['residuos'] = rfr_cv_df_sample['label'] - rfr_cv_df_sample['prediction']\n",
        "\n",
        "\n",
        "# -------------------------------------------------------------------\n",
        "# Passo 2: Criar a figura com 4 subplots (painel 2x2)\n",
        "# -------------------------------------------------------------------\n",
        "sns.set_style(\"whitegrid\")\n",
        "fig, axes = plt.subplots(2, 2, figsize=(18, 16))\n",
        "fig.suptitle('Painel de Comparação de Modelos (Baseado em Amostra)', fontsize=20)\n",
        "\n",
        "\n",
        "# --- Parâmetros de visualização para dados densos ---\n",
        "# alpha: transparência dos pontos (valores baixos revelam densidade)\n",
        "# s: tamanho dos pontos\n",
        "plot_params = {'alpha': 0.3, 's': 15}\n",
        "\n",
        "\n",
        "# -------------------------------------------------------------------\n",
        "# Gráfico 1: Previsto vs. Real - Decision Tree\n",
        "# -------------------------------------------------------------------\n",
        "ax1 = axes[0, 0]\n",
        "ax1.plot([min(dtr_cv_df_sample['label']), max(dtr_cv_df_sample['label'])],\n",
        "         [min(dtr_cv_df_sample['label']), max(dtr_cv_df_sample['label'])],\n",
        "         'r--', lw=2)\n",
        "sns.scatterplot(data=dtr_cv_df_sample, x='label', y='prediction', ax=ax1, **plot_params)\n",
        "ax1.set_title('Previsto vs. Real - Decision Tree (CV)', fontsize=14)\n",
        "ax1.set_xlabel('Valor Real', fontsize=12)\n",
        "ax1.set_ylabel('Valor Previsto', fontsize=12)\n",
        "\n",
        "\n",
        "# -------------------------------------------------------------------\n",
        "# Gráfico 2: Previsto vs. Real - Random Forest\n",
        "# -------------------------------------------------------------------\n",
        "ax2 = axes[0, 1]\n",
        "ax2.plot([min(rfr_cv_df_sample['label']), max(rfr_cv_df_sample['label'])],\n",
        "         [min(rfr_cv_df_sample['label']), max(rfr_cv_df_sample['label'])],\n",
        "         'r--', lw=2)\n",
        "sns.scatterplot(data=rfr_cv_df_sample, x='label', y='prediction', ax=ax2, **plot_params)\n",
        "ax2.set_title('Previsto vs. Real - Random Forest (CV)', fontsize=14)\n",
        "ax2.set_xlabel('Valor Real', fontsize=12)\n",
        "ax2.set_ylabel('Valor Previsto', fontsize=12)\n",
        "\n",
        "\n",
        "# -------------------------------------------------------------------\n",
        "# Gráfico 3: Resíduos - Decision Tree\n",
        "# -------------------------------------------------------------------\n",
        "ax3 = axes[1, 0]\n",
        "ax3.axhline(y=0, color='r', linestyle='--')\n",
        "sns.scatterplot(data=dtr_cv_df_sample, x='prediction', y='residuos', ax=ax3, **plot_params)\n",
        "ax3.set_title('Gráfico de Resíduos - Decision Tree (CV)', fontsize=14)\n",
        "ax3.set_xlabel('Valor Previsto', fontsize=12)\n",
        "ax3.set_ylabel('Resíduos (Erro)', fontsize=12)\n",
        "\n",
        "\n",
        "# -------------------------------------------------------------------\n",
        "# Gráfico 4: Resíduos - Random Forest\n",
        "# -------------------------------------------------------------------\n",
        "ax4 = axes[1, 1]\n",
        "ax4.axhline(y=0, color='r', linestyle='--')\n",
        "sns.scatterplot(data=rfr_cv_df_sample, x='prediction', y='residuos', ax=ax4, **plot_params)\n",
        "ax4.set_title('Gráfico de Resíduos - Random Forest (CV)', fontsize=14)\n",
        "ax4.set_xlabel('Valor Previsto', fontsize=12)\n",
        "ax4.set_ylabel('Resíduos (Erro)', fontsize=12)\n",
        "\n",
        "\n",
        "plt.tight_layout(rect=[0, 0.03, 1, 0.95])\n",
        "plt.show()\n"
      ],
      "metadata": {
        "colab": {
          "base_uri": "https://localhost:8080/",
          "height": 1000
        },
        "id": "70m7y6gfcPun",
        "outputId": "1aad1e23-94a9-45ad-a8f6-1cf38b818e7c"
      },
      "execution_count": 97,
      "outputs": [
        {
          "output_type": "stream",
          "name": "stdout",
          "text": [
            "Criando amostra de 15.0% dos dados de teste...\n",
            "Amostragem e conversão finalizadas.\n"
          ]
        },
        {
          "output_type": "display_data",
          "data": {
            "text/plain": [
              "<Figure size 1800x1600 with 4 Axes>"
            ],
            "image/png": "[encoded data removed]"
          },
          "metadata": {}
        }
      ]
    },
    {
      "cell_type": "markdown",
      "source": [
        "##Prevendo Resultados com o Melhor modelo"
      ],
      "metadata": {
        "id": "KL7IY_Spd91n"
      }
    },
    {
      "cell_type": "code",
      "source": [
        "X"
      ],
      "metadata": {
        "id": "vHqfzaGTeCtz",
        "colab": {
          "base_uri": "https://localhost:8080/"
        },
        "outputId": "b179e150-c348-4902-c381-07252ee357b2"
      },
      "execution_count": 90,
      "outputs": [
        {
          "output_type": "execute_result",
          "data": {
            "text/plain": [
              "['bathrooms',\n",
              " 'bedrooms',\n",
              " 'floors',\n",
              " 'parkingSpaces',\n",
              " 'suites',\n",
              " 'unitFloor',\n",
              " 'unitsOnTheFloor',\n",
              " 'usableAreas',\n",
              " 'condo',\n",
              " 'iptu',\n",
              " 'Apartamento',\n",
              " 'Casa',\n",
              " 'Outros',\n",
              " 'Zona Central',\n",
              " 'Zona Norte',\n",
              " 'Zona Oeste',\n",
              " 'Zona Sul']"
            ]
          },
          "metadata": {},
          "execution_count": 90
        }
      ]
    },
    {
      "cell_type": "code",
      "source": [
        "   novo_imovel = [{\n",
        "    'bathrooms': 2,\n",
        "    'bedrooms': 2,\n",
        "    'floors': 2,\n",
        "    'parkingSpaces': 1,\n",
        "    'suites': 2,\n",
        "    'unitFloor':2,\n",
        "    'unitsOnTheFloor':1,\n",
        "    'usableAreas':150,\n",
        "    'condo':400,\n",
        "    'iptu':0,\n",
        "    'Apartamento':1,\n",
        "    'Casa':0,\n",
        "    'Outros':0,\n",
        "    'Zona Central':0,\n",
        "    'Zona Norte':0,\n",
        "    'Zona Oeste':0,\n",
        "    'Zona Sul':1,\n",
        "        'label': 0}]"
      ],
      "metadata": {
        "id": "A_wxKj0tVgBf"
      },
      "execution_count": 91,
      "outputs": []
    },
    {
      "cell_type": "code",
      "source": [
        "meu_imovel = spark.createDataFrame(novo_imovel)"
      ],
      "metadata": {
        "id": "JahLkYv1Vuzy"
      },
      "execution_count": 92,
      "outputs": []
    },
    {
      "cell_type": "code",
      "source": [
        "assembler = VectorAssembler(inputCols = X, outputCol = 'features')"
      ],
      "metadata": {
        "id": "ojW6X1MwW7rp"
      },
      "execution_count": 93,
      "outputs": []
    },
    {
      "cell_type": "code",
      "source": [
        "meu_lar_vetorizado = assembler.transform(meu_imovel).select('features', 'label')"
      ],
      "metadata": {
        "id": "kueJD7V3XtHW"
      },
      "execution_count": 94,
      "outputs": []
    },
    {
      "cell_type": "code",
      "source": [
        "modelo_rfr_cv.transform(meu_lar_vetorizado).show()"
      ],
      "metadata": {
        "id": "7Z8_OUlKZPgB",
        "colab": {
          "base_uri": "https://localhost:8080/"
        },
        "outputId": "31c84fe7-f111-4825-80ea-3ecb1ee3e60e"
      },
      "execution_count": 95,
      "outputs": [
        {
          "output_type": "stream",
          "name": "stdout",
          "text": [
            "+--------------------+-----+------------------+\n",
            "|            features|label|        prediction|\n",
            "+--------------------+-----+------------------+\n",
            "|[2.0,2.0,2.0,1.0,...|    0|1871882.0769263466|\n",
            "+--------------------+-----+------------------+\n",
            "\n"
          ]
        }
      ]
    }
  ],
  "metadata": {
    "colab": {
      "provenance": []
    },
    "kernelspec": {
      "display_name": "Python 3",
      "language": "python",
      "name": "python3"
    },
    "language_info": {
      "codemirror_mode": {
        "name": "ipython",
        "version": 3
      },
      "file_extension": ".py",
      "mimetype": "text/x-python",
      "name": "python",
      "nbconvert_exporter": "python",
      "pygments_lexer": "ipython3",
      "version": "3.8.8"
    }
  },
  "nbformat": 4,
  "nbformat_minor": 0
}